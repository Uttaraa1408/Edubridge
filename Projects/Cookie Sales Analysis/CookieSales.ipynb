{
 "cells": [
  {
   "cell_type": "markdown",
   "metadata": {},
   "source": [
    "## Cookie Sales\n",
    "\n",
    "### The Data consists of Cookie Sales in various regions."
   ]
  },
  {
   "cell_type": "markdown",
   "metadata": {},
   "source": [
    "#### Importing Libraries"
   ]
  },
  {
   "cell_type": "code",
   "execution_count": 1,
   "metadata": {},
   "outputs": [],
   "source": [
    "import pandas as pd\n",
    "import numpy as np\n",
    "import matplotlib\n",
    "from matplotlib import pyplot as plt\n",
    "from matplotlib import style\n",
    "import seaborn as sns\n",
    "import squarify"
   ]
  },
  {
   "cell_type": "markdown",
   "metadata": {},
   "source": [
    "#### Reading Data from Excel and to View Data"
   ]
  },
  {
   "cell_type": "code",
   "execution_count": 2,
   "metadata": {},
   "outputs": [
    {
     "data": {
      "text/html": [
       "<div>\n",
       "<style scoped>\n",
       "    .dataframe tbody tr th:only-of-type {\n",
       "        vertical-align: middle;\n",
       "    }\n",
       "\n",
       "    .dataframe tbody tr th {\n",
       "        vertical-align: top;\n",
       "    }\n",
       "\n",
       "    .dataframe thead th {\n",
       "        text-align: right;\n",
       "    }\n",
       "</style>\n",
       "<table border=\"1\" class=\"dataframe\">\n",
       "  <thead>\n",
       "    <tr style=\"text-align: right;\">\n",
       "      <th></th>\n",
       "      <th>Country</th>\n",
       "      <th>Product</th>\n",
       "      <th>Units Sold</th>\n",
       "      <th>Revenue per cookie</th>\n",
       "      <th>Cost per cookie</th>\n",
       "      <th>Revenue</th>\n",
       "      <th>Cost</th>\n",
       "      <th>Profit</th>\n",
       "      <th>Date</th>\n",
       "      <th>Month Number</th>\n",
       "      <th>Month Name</th>\n",
       "      <th>Year</th>\n",
       "    </tr>\n",
       "  </thead>\n",
       "  <tbody>\n",
       "    <tr>\n",
       "      <th>0</th>\n",
       "      <td>Canada</td>\n",
       "      <td>Chocolate Chip</td>\n",
       "      <td>292.0</td>\n",
       "      <td>5</td>\n",
       "      <td>2.00</td>\n",
       "      <td>1460.0</td>\n",
       "      <td>584.00</td>\n",
       "      <td>876.00</td>\n",
       "      <td>2019-01-02</td>\n",
       "      <td>2</td>\n",
       "      <td>February</td>\n",
       "      <td>2019</td>\n",
       "    </tr>\n",
       "    <tr>\n",
       "      <th>1</th>\n",
       "      <td>Mexico</td>\n",
       "      <td>Chocolate Chip</td>\n",
       "      <td>974.0</td>\n",
       "      <td>5</td>\n",
       "      <td>2.00</td>\n",
       "      <td>4870.0</td>\n",
       "      <td>1948.00</td>\n",
       "      <td>2922.00</td>\n",
       "      <td>2019-01-02</td>\n",
       "      <td>2</td>\n",
       "      <td>February</td>\n",
       "      <td>2019</td>\n",
       "    </tr>\n",
       "    <tr>\n",
       "      <th>2</th>\n",
       "      <td>Canada</td>\n",
       "      <td>Chocolate Chip</td>\n",
       "      <td>2518.0</td>\n",
       "      <td>5</td>\n",
       "      <td>2.00</td>\n",
       "      <td>12590.0</td>\n",
       "      <td>5036.00</td>\n",
       "      <td>7554.00</td>\n",
       "      <td>2019-01-06</td>\n",
       "      <td>6</td>\n",
       "      <td>June</td>\n",
       "      <td>2019</td>\n",
       "    </tr>\n",
       "    <tr>\n",
       "      <th>3</th>\n",
       "      <td>Germany</td>\n",
       "      <td>Chocolate Chip</td>\n",
       "      <td>1006.0</td>\n",
       "      <td>5</td>\n",
       "      <td>2.00</td>\n",
       "      <td>5030.0</td>\n",
       "      <td>2012.00</td>\n",
       "      <td>3018.00</td>\n",
       "      <td>2019-01-06</td>\n",
       "      <td>6</td>\n",
       "      <td>June</td>\n",
       "      <td>2019</td>\n",
       "    </tr>\n",
       "    <tr>\n",
       "      <th>4</th>\n",
       "      <td>Germany</td>\n",
       "      <td>Chocolate Chip</td>\n",
       "      <td>367.0</td>\n",
       "      <td>5</td>\n",
       "      <td>2.00</td>\n",
       "      <td>1835.0</td>\n",
       "      <td>734.00</td>\n",
       "      <td>1101.00</td>\n",
       "      <td>2019-01-07</td>\n",
       "      <td>7</td>\n",
       "      <td>July</td>\n",
       "      <td>2019</td>\n",
       "    </tr>\n",
       "    <tr>\n",
       "      <th>...</th>\n",
       "      <td>...</td>\n",
       "      <td>...</td>\n",
       "      <td>...</td>\n",
       "      <td>...</td>\n",
       "      <td>...</td>\n",
       "      <td>...</td>\n",
       "      <td>...</td>\n",
       "      <td>...</td>\n",
       "      <td>...</td>\n",
       "      <td>...</td>\n",
       "      <td>...</td>\n",
       "      <td>...</td>\n",
       "    </tr>\n",
       "    <tr>\n",
       "      <th>695</th>\n",
       "      <td>France</td>\n",
       "      <td>White Chocolate Macadamia Nut</td>\n",
       "      <td>2826.0</td>\n",
       "      <td>6</td>\n",
       "      <td>2.75</td>\n",
       "      <td>16956.0</td>\n",
       "      <td>7771.50</td>\n",
       "      <td>9184.50</td>\n",
       "      <td>2019-01-05</td>\n",
       "      <td>5</td>\n",
       "      <td>May</td>\n",
       "      <td>2019</td>\n",
       "    </tr>\n",
       "    <tr>\n",
       "      <th>696</th>\n",
       "      <td>France</td>\n",
       "      <td>White Chocolate Macadamia Nut</td>\n",
       "      <td>663.0</td>\n",
       "      <td>6</td>\n",
       "      <td>2.75</td>\n",
       "      <td>3978.0</td>\n",
       "      <td>1823.25</td>\n",
       "      <td>2154.75</td>\n",
       "      <td>2019-01-09</td>\n",
       "      <td>9</td>\n",
       "      <td>September</td>\n",
       "      <td>2019</td>\n",
       "    </tr>\n",
       "    <tr>\n",
       "      <th>697</th>\n",
       "      <td>United States</td>\n",
       "      <td>White Chocolate Macadamia Nut</td>\n",
       "      <td>2574.0</td>\n",
       "      <td>6</td>\n",
       "      <td>2.75</td>\n",
       "      <td>15444.0</td>\n",
       "      <td>7078.50</td>\n",
       "      <td>8365.50</td>\n",
       "      <td>2018-01-11</td>\n",
       "      <td>11</td>\n",
       "      <td>November</td>\n",
       "      <td>2018</td>\n",
       "    </tr>\n",
       "    <tr>\n",
       "      <th>698</th>\n",
       "      <td>United States</td>\n",
       "      <td>White Chocolate Macadamia Nut</td>\n",
       "      <td>2438.0</td>\n",
       "      <td>6</td>\n",
       "      <td>2.75</td>\n",
       "      <td>14628.0</td>\n",
       "      <td>6704.50</td>\n",
       "      <td>7923.50</td>\n",
       "      <td>2018-01-12</td>\n",
       "      <td>12</td>\n",
       "      <td>December</td>\n",
       "      <td>2018</td>\n",
       "    </tr>\n",
       "    <tr>\n",
       "      <th>699</th>\n",
       "      <td>United States</td>\n",
       "      <td>White Chocolate Macadamia Nut</td>\n",
       "      <td>914.0</td>\n",
       "      <td>6</td>\n",
       "      <td>2.75</td>\n",
       "      <td>5484.0</td>\n",
       "      <td>2513.50</td>\n",
       "      <td>2970.50</td>\n",
       "      <td>2019-01-12</td>\n",
       "      <td>12</td>\n",
       "      <td>December</td>\n",
       "      <td>2019</td>\n",
       "    </tr>\n",
       "  </tbody>\n",
       "</table>\n",
       "<p>700 rows × 12 columns</p>\n",
       "</div>"
      ],
      "text/plain": [
       "           Country                        Product  Units Sold  \\\n",
       "0           Canada                 Chocolate Chip       292.0   \n",
       "1           Mexico                 Chocolate Chip       974.0   \n",
       "2           Canada                 Chocolate Chip      2518.0   \n",
       "3          Germany                 Chocolate Chip      1006.0   \n",
       "4          Germany                 Chocolate Chip       367.0   \n",
       "..             ...                            ...         ...   \n",
       "695         France  White Chocolate Macadamia Nut      2826.0   \n",
       "696         France  White Chocolate Macadamia Nut       663.0   \n",
       "697  United States  White Chocolate Macadamia Nut      2574.0   \n",
       "698  United States  White Chocolate Macadamia Nut      2438.0   \n",
       "699  United States  White Chocolate Macadamia Nut       914.0   \n",
       "\n",
       "     Revenue per cookie  Cost per cookie  Revenue     Cost   Profit  \\\n",
       "0                     5             2.00   1460.0   584.00   876.00   \n",
       "1                     5             2.00   4870.0  1948.00  2922.00   \n",
       "2                     5             2.00  12590.0  5036.00  7554.00   \n",
       "3                     5             2.00   5030.0  2012.00  3018.00   \n",
       "4                     5             2.00   1835.0   734.00  1101.00   \n",
       "..                  ...              ...      ...      ...      ...   \n",
       "695                   6             2.75  16956.0  7771.50  9184.50   \n",
       "696                   6             2.75   3978.0  1823.25  2154.75   \n",
       "697                   6             2.75  15444.0  7078.50  8365.50   \n",
       "698                   6             2.75  14628.0  6704.50  7923.50   \n",
       "699                   6             2.75   5484.0  2513.50  2970.50   \n",
       "\n",
       "          Date  Month Number Month Name  Year  \n",
       "0   2019-01-02             2   February  2019  \n",
       "1   2019-01-02             2   February  2019  \n",
       "2   2019-01-06             6       June  2019  \n",
       "3   2019-01-06             6       June  2019  \n",
       "4   2019-01-07             7       July  2019  \n",
       "..         ...           ...        ...   ...  \n",
       "695 2019-01-05             5        May  2019  \n",
       "696 2019-01-09             9  September  2019  \n",
       "697 2018-01-11            11   November  2018  \n",
       "698 2018-01-12            12   December  2018  \n",
       "699 2019-01-12            12   December  2019  \n",
       "\n",
       "[700 rows x 12 columns]"
      ]
     },
     "execution_count": 2,
     "metadata": {},
     "output_type": "execute_result"
    }
   ],
   "source": [
    "d = pd.read_excel(r'G:\\Edu Bridge\\Python\\DataSets\\KevinCookingCompanyFinancials.xlsx')\n",
    "d "
   ]
  },
  {
   "cell_type": "markdown",
   "metadata": {},
   "source": [
    "#### Setting Date column as Index"
   ]
  },
  {
   "cell_type": "code",
   "execution_count": 3,
   "metadata": {},
   "outputs": [
    {
     "data": {
      "text/html": [
       "<div>\n",
       "<style scoped>\n",
       "    .dataframe tbody tr th:only-of-type {\n",
       "        vertical-align: middle;\n",
       "    }\n",
       "\n",
       "    .dataframe tbody tr th {\n",
       "        vertical-align: top;\n",
       "    }\n",
       "\n",
       "    .dataframe thead th {\n",
       "        text-align: right;\n",
       "    }\n",
       "</style>\n",
       "<table border=\"1\" class=\"dataframe\">\n",
       "  <thead>\n",
       "    <tr style=\"text-align: right;\">\n",
       "      <th></th>\n",
       "      <th>Country</th>\n",
       "      <th>Product</th>\n",
       "      <th>Units Sold</th>\n",
       "      <th>Revenue per cookie</th>\n",
       "      <th>Cost per cookie</th>\n",
       "      <th>Revenue</th>\n",
       "      <th>Cost</th>\n",
       "      <th>Profit</th>\n",
       "      <th>Month Number</th>\n",
       "      <th>Month Name</th>\n",
       "      <th>Year</th>\n",
       "    </tr>\n",
       "    <tr>\n",
       "      <th>Date</th>\n",
       "      <th></th>\n",
       "      <th></th>\n",
       "      <th></th>\n",
       "      <th></th>\n",
       "      <th></th>\n",
       "      <th></th>\n",
       "      <th></th>\n",
       "      <th></th>\n",
       "      <th></th>\n",
       "      <th></th>\n",
       "      <th></th>\n",
       "    </tr>\n",
       "  </thead>\n",
       "  <tbody>\n",
       "    <tr>\n",
       "      <th>2019-01-02</th>\n",
       "      <td>Canada</td>\n",
       "      <td>Chocolate Chip</td>\n",
       "      <td>292.0</td>\n",
       "      <td>5</td>\n",
       "      <td>2.00</td>\n",
       "      <td>1460.0</td>\n",
       "      <td>584.00</td>\n",
       "      <td>876.00</td>\n",
       "      <td>2</td>\n",
       "      <td>February</td>\n",
       "      <td>2019</td>\n",
       "    </tr>\n",
       "    <tr>\n",
       "      <th>2019-01-02</th>\n",
       "      <td>Mexico</td>\n",
       "      <td>Chocolate Chip</td>\n",
       "      <td>974.0</td>\n",
       "      <td>5</td>\n",
       "      <td>2.00</td>\n",
       "      <td>4870.0</td>\n",
       "      <td>1948.00</td>\n",
       "      <td>2922.00</td>\n",
       "      <td>2</td>\n",
       "      <td>February</td>\n",
       "      <td>2019</td>\n",
       "    </tr>\n",
       "    <tr>\n",
       "      <th>2019-01-06</th>\n",
       "      <td>Canada</td>\n",
       "      <td>Chocolate Chip</td>\n",
       "      <td>2518.0</td>\n",
       "      <td>5</td>\n",
       "      <td>2.00</td>\n",
       "      <td>12590.0</td>\n",
       "      <td>5036.00</td>\n",
       "      <td>7554.00</td>\n",
       "      <td>6</td>\n",
       "      <td>June</td>\n",
       "      <td>2019</td>\n",
       "    </tr>\n",
       "    <tr>\n",
       "      <th>2019-01-06</th>\n",
       "      <td>Germany</td>\n",
       "      <td>Chocolate Chip</td>\n",
       "      <td>1006.0</td>\n",
       "      <td>5</td>\n",
       "      <td>2.00</td>\n",
       "      <td>5030.0</td>\n",
       "      <td>2012.00</td>\n",
       "      <td>3018.00</td>\n",
       "      <td>6</td>\n",
       "      <td>June</td>\n",
       "      <td>2019</td>\n",
       "    </tr>\n",
       "    <tr>\n",
       "      <th>2019-01-07</th>\n",
       "      <td>Germany</td>\n",
       "      <td>Chocolate Chip</td>\n",
       "      <td>367.0</td>\n",
       "      <td>5</td>\n",
       "      <td>2.00</td>\n",
       "      <td>1835.0</td>\n",
       "      <td>734.00</td>\n",
       "      <td>1101.00</td>\n",
       "      <td>7</td>\n",
       "      <td>July</td>\n",
       "      <td>2019</td>\n",
       "    </tr>\n",
       "    <tr>\n",
       "      <th>...</th>\n",
       "      <td>...</td>\n",
       "      <td>...</td>\n",
       "      <td>...</td>\n",
       "      <td>...</td>\n",
       "      <td>...</td>\n",
       "      <td>...</td>\n",
       "      <td>...</td>\n",
       "      <td>...</td>\n",
       "      <td>...</td>\n",
       "      <td>...</td>\n",
       "      <td>...</td>\n",
       "    </tr>\n",
       "    <tr>\n",
       "      <th>2019-01-05</th>\n",
       "      <td>France</td>\n",
       "      <td>White Chocolate Macadamia Nut</td>\n",
       "      <td>2826.0</td>\n",
       "      <td>6</td>\n",
       "      <td>2.75</td>\n",
       "      <td>16956.0</td>\n",
       "      <td>7771.50</td>\n",
       "      <td>9184.50</td>\n",
       "      <td>5</td>\n",
       "      <td>May</td>\n",
       "      <td>2019</td>\n",
       "    </tr>\n",
       "    <tr>\n",
       "      <th>2019-01-09</th>\n",
       "      <td>France</td>\n",
       "      <td>White Chocolate Macadamia Nut</td>\n",
       "      <td>663.0</td>\n",
       "      <td>6</td>\n",
       "      <td>2.75</td>\n",
       "      <td>3978.0</td>\n",
       "      <td>1823.25</td>\n",
       "      <td>2154.75</td>\n",
       "      <td>9</td>\n",
       "      <td>September</td>\n",
       "      <td>2019</td>\n",
       "    </tr>\n",
       "    <tr>\n",
       "      <th>2018-01-11</th>\n",
       "      <td>United States</td>\n",
       "      <td>White Chocolate Macadamia Nut</td>\n",
       "      <td>2574.0</td>\n",
       "      <td>6</td>\n",
       "      <td>2.75</td>\n",
       "      <td>15444.0</td>\n",
       "      <td>7078.50</td>\n",
       "      <td>8365.50</td>\n",
       "      <td>11</td>\n",
       "      <td>November</td>\n",
       "      <td>2018</td>\n",
       "    </tr>\n",
       "    <tr>\n",
       "      <th>2018-01-12</th>\n",
       "      <td>United States</td>\n",
       "      <td>White Chocolate Macadamia Nut</td>\n",
       "      <td>2438.0</td>\n",
       "      <td>6</td>\n",
       "      <td>2.75</td>\n",
       "      <td>14628.0</td>\n",
       "      <td>6704.50</td>\n",
       "      <td>7923.50</td>\n",
       "      <td>12</td>\n",
       "      <td>December</td>\n",
       "      <td>2018</td>\n",
       "    </tr>\n",
       "    <tr>\n",
       "      <th>2019-01-12</th>\n",
       "      <td>United States</td>\n",
       "      <td>White Chocolate Macadamia Nut</td>\n",
       "      <td>914.0</td>\n",
       "      <td>6</td>\n",
       "      <td>2.75</td>\n",
       "      <td>5484.0</td>\n",
       "      <td>2513.50</td>\n",
       "      <td>2970.50</td>\n",
       "      <td>12</td>\n",
       "      <td>December</td>\n",
       "      <td>2019</td>\n",
       "    </tr>\n",
       "  </tbody>\n",
       "</table>\n",
       "<p>700 rows × 11 columns</p>\n",
       "</div>"
      ],
      "text/plain": [
       "                  Country                        Product  Units Sold  \\\n",
       "Date                                                                   \n",
       "2019-01-02         Canada                 Chocolate Chip       292.0   \n",
       "2019-01-02         Mexico                 Chocolate Chip       974.0   \n",
       "2019-01-06         Canada                 Chocolate Chip      2518.0   \n",
       "2019-01-06        Germany                 Chocolate Chip      1006.0   \n",
       "2019-01-07        Germany                 Chocolate Chip       367.0   \n",
       "...                   ...                            ...         ...   \n",
       "2019-01-05         France  White Chocolate Macadamia Nut      2826.0   \n",
       "2019-01-09         France  White Chocolate Macadamia Nut       663.0   \n",
       "2018-01-11  United States  White Chocolate Macadamia Nut      2574.0   \n",
       "2018-01-12  United States  White Chocolate Macadamia Nut      2438.0   \n",
       "2019-01-12  United States  White Chocolate Macadamia Nut       914.0   \n",
       "\n",
       "            Revenue per cookie  Cost per cookie  Revenue     Cost   Profit  \\\n",
       "Date                                                                         \n",
       "2019-01-02                   5             2.00   1460.0   584.00   876.00   \n",
       "2019-01-02                   5             2.00   4870.0  1948.00  2922.00   \n",
       "2019-01-06                   5             2.00  12590.0  5036.00  7554.00   \n",
       "2019-01-06                   5             2.00   5030.0  2012.00  3018.00   \n",
       "2019-01-07                   5             2.00   1835.0   734.00  1101.00   \n",
       "...                        ...              ...      ...      ...      ...   \n",
       "2019-01-05                   6             2.75  16956.0  7771.50  9184.50   \n",
       "2019-01-09                   6             2.75   3978.0  1823.25  2154.75   \n",
       "2018-01-11                   6             2.75  15444.0  7078.50  8365.50   \n",
       "2018-01-12                   6             2.75  14628.0  6704.50  7923.50   \n",
       "2019-01-12                   6             2.75   5484.0  2513.50  2970.50   \n",
       "\n",
       "            Month Number Month Name  Year  \n",
       "Date                                       \n",
       "2019-01-02             2   February  2019  \n",
       "2019-01-02             2   February  2019  \n",
       "2019-01-06             6       June  2019  \n",
       "2019-01-06             6       June  2019  \n",
       "2019-01-07             7       July  2019  \n",
       "...                  ...        ...   ...  \n",
       "2019-01-05             5        May  2019  \n",
       "2019-01-09             9  September  2019  \n",
       "2018-01-11            11   November  2018  \n",
       "2018-01-12            12   December  2018  \n",
       "2019-01-12            12   December  2019  \n",
       "\n",
       "[700 rows x 11 columns]"
      ]
     },
     "execution_count": 3,
     "metadata": {},
     "output_type": "execute_result"
    }
   ],
   "source": [
    "d = d.set_index(\"Date\")\n",
    "d"
   ]
  },
  {
   "cell_type": "markdown",
   "metadata": {},
   "source": [
    "#### Top 5 Rows"
   ]
  },
  {
   "cell_type": "code",
   "execution_count": 4,
   "metadata": {},
   "outputs": [
    {
     "data": {
      "text/html": [
       "<div>\n",
       "<style scoped>\n",
       "    .dataframe tbody tr th:only-of-type {\n",
       "        vertical-align: middle;\n",
       "    }\n",
       "\n",
       "    .dataframe tbody tr th {\n",
       "        vertical-align: top;\n",
       "    }\n",
       "\n",
       "    .dataframe thead th {\n",
       "        text-align: right;\n",
       "    }\n",
       "</style>\n",
       "<table border=\"1\" class=\"dataframe\">\n",
       "  <thead>\n",
       "    <tr style=\"text-align: right;\">\n",
       "      <th></th>\n",
       "      <th>Country</th>\n",
       "      <th>Product</th>\n",
       "      <th>Units Sold</th>\n",
       "      <th>Revenue per cookie</th>\n",
       "      <th>Cost per cookie</th>\n",
       "      <th>Revenue</th>\n",
       "      <th>Cost</th>\n",
       "      <th>Profit</th>\n",
       "      <th>Month Number</th>\n",
       "      <th>Month Name</th>\n",
       "      <th>Year</th>\n",
       "    </tr>\n",
       "    <tr>\n",
       "      <th>Date</th>\n",
       "      <th></th>\n",
       "      <th></th>\n",
       "      <th></th>\n",
       "      <th></th>\n",
       "      <th></th>\n",
       "      <th></th>\n",
       "      <th></th>\n",
       "      <th></th>\n",
       "      <th></th>\n",
       "      <th></th>\n",
       "      <th></th>\n",
       "    </tr>\n",
       "  </thead>\n",
       "  <tbody>\n",
       "    <tr>\n",
       "      <th>2019-01-02</th>\n",
       "      <td>Canada</td>\n",
       "      <td>Chocolate Chip</td>\n",
       "      <td>292.0</td>\n",
       "      <td>5</td>\n",
       "      <td>2.0</td>\n",
       "      <td>1460.0</td>\n",
       "      <td>584.0</td>\n",
       "      <td>876.0</td>\n",
       "      <td>2</td>\n",
       "      <td>February</td>\n",
       "      <td>2019</td>\n",
       "    </tr>\n",
       "    <tr>\n",
       "      <th>2019-01-02</th>\n",
       "      <td>Mexico</td>\n",
       "      <td>Chocolate Chip</td>\n",
       "      <td>974.0</td>\n",
       "      <td>5</td>\n",
       "      <td>2.0</td>\n",
       "      <td>4870.0</td>\n",
       "      <td>1948.0</td>\n",
       "      <td>2922.0</td>\n",
       "      <td>2</td>\n",
       "      <td>February</td>\n",
       "      <td>2019</td>\n",
       "    </tr>\n",
       "    <tr>\n",
       "      <th>2019-01-06</th>\n",
       "      <td>Canada</td>\n",
       "      <td>Chocolate Chip</td>\n",
       "      <td>2518.0</td>\n",
       "      <td>5</td>\n",
       "      <td>2.0</td>\n",
       "      <td>12590.0</td>\n",
       "      <td>5036.0</td>\n",
       "      <td>7554.0</td>\n",
       "      <td>6</td>\n",
       "      <td>June</td>\n",
       "      <td>2019</td>\n",
       "    </tr>\n",
       "    <tr>\n",
       "      <th>2019-01-06</th>\n",
       "      <td>Germany</td>\n",
       "      <td>Chocolate Chip</td>\n",
       "      <td>1006.0</td>\n",
       "      <td>5</td>\n",
       "      <td>2.0</td>\n",
       "      <td>5030.0</td>\n",
       "      <td>2012.0</td>\n",
       "      <td>3018.0</td>\n",
       "      <td>6</td>\n",
       "      <td>June</td>\n",
       "      <td>2019</td>\n",
       "    </tr>\n",
       "    <tr>\n",
       "      <th>2019-01-07</th>\n",
       "      <td>Germany</td>\n",
       "      <td>Chocolate Chip</td>\n",
       "      <td>367.0</td>\n",
       "      <td>5</td>\n",
       "      <td>2.0</td>\n",
       "      <td>1835.0</td>\n",
       "      <td>734.0</td>\n",
       "      <td>1101.0</td>\n",
       "      <td>7</td>\n",
       "      <td>July</td>\n",
       "      <td>2019</td>\n",
       "    </tr>\n",
       "  </tbody>\n",
       "</table>\n",
       "</div>"
      ],
      "text/plain": [
       "            Country         Product  Units Sold  Revenue per cookie  \\\n",
       "Date                                                                  \n",
       "2019-01-02   Canada  Chocolate Chip       292.0                   5   \n",
       "2019-01-02   Mexico  Chocolate Chip       974.0                   5   \n",
       "2019-01-06   Canada  Chocolate Chip      2518.0                   5   \n",
       "2019-01-06  Germany  Chocolate Chip      1006.0                   5   \n",
       "2019-01-07  Germany  Chocolate Chip       367.0                   5   \n",
       "\n",
       "            Cost per cookie  Revenue    Cost  Profit  Month Number Month Name  \\\n",
       "Date                                                                            \n",
       "2019-01-02              2.0   1460.0   584.0   876.0             2   February   \n",
       "2019-01-02              2.0   4870.0  1948.0  2922.0             2   February   \n",
       "2019-01-06              2.0  12590.0  5036.0  7554.0             6       June   \n",
       "2019-01-06              2.0   5030.0  2012.0  3018.0             6       June   \n",
       "2019-01-07              2.0   1835.0   734.0  1101.0             7       July   \n",
       "\n",
       "            Year  \n",
       "Date              \n",
       "2019-01-02  2019  \n",
       "2019-01-02  2019  \n",
       "2019-01-06  2019  \n",
       "2019-01-06  2019  \n",
       "2019-01-07  2019  "
      ]
     },
     "execution_count": 4,
     "metadata": {},
     "output_type": "execute_result"
    }
   ],
   "source": [
    "d.head()"
   ]
  },
  {
   "cell_type": "markdown",
   "metadata": {},
   "source": [
    "#### Last 5 Rows"
   ]
  },
  {
   "cell_type": "code",
   "execution_count": 5,
   "metadata": {
    "scrolled": true
   },
   "outputs": [
    {
     "data": {
      "text/html": [
       "<div>\n",
       "<style scoped>\n",
       "    .dataframe tbody tr th:only-of-type {\n",
       "        vertical-align: middle;\n",
       "    }\n",
       "\n",
       "    .dataframe tbody tr th {\n",
       "        vertical-align: top;\n",
       "    }\n",
       "\n",
       "    .dataframe thead th {\n",
       "        text-align: right;\n",
       "    }\n",
       "</style>\n",
       "<table border=\"1\" class=\"dataframe\">\n",
       "  <thead>\n",
       "    <tr style=\"text-align: right;\">\n",
       "      <th></th>\n",
       "      <th>Country</th>\n",
       "      <th>Product</th>\n",
       "      <th>Units Sold</th>\n",
       "      <th>Revenue per cookie</th>\n",
       "      <th>Cost per cookie</th>\n",
       "      <th>Revenue</th>\n",
       "      <th>Cost</th>\n",
       "      <th>Profit</th>\n",
       "      <th>Month Number</th>\n",
       "      <th>Month Name</th>\n",
       "      <th>Year</th>\n",
       "    </tr>\n",
       "    <tr>\n",
       "      <th>Date</th>\n",
       "      <th></th>\n",
       "      <th></th>\n",
       "      <th></th>\n",
       "      <th></th>\n",
       "      <th></th>\n",
       "      <th></th>\n",
       "      <th></th>\n",
       "      <th></th>\n",
       "      <th></th>\n",
       "      <th></th>\n",
       "      <th></th>\n",
       "    </tr>\n",
       "  </thead>\n",
       "  <tbody>\n",
       "    <tr>\n",
       "      <th>2019-01-05</th>\n",
       "      <td>France</td>\n",
       "      <td>White Chocolate Macadamia Nut</td>\n",
       "      <td>2826.0</td>\n",
       "      <td>6</td>\n",
       "      <td>2.75</td>\n",
       "      <td>16956.0</td>\n",
       "      <td>7771.50</td>\n",
       "      <td>9184.50</td>\n",
       "      <td>5</td>\n",
       "      <td>May</td>\n",
       "      <td>2019</td>\n",
       "    </tr>\n",
       "    <tr>\n",
       "      <th>2019-01-09</th>\n",
       "      <td>France</td>\n",
       "      <td>White Chocolate Macadamia Nut</td>\n",
       "      <td>663.0</td>\n",
       "      <td>6</td>\n",
       "      <td>2.75</td>\n",
       "      <td>3978.0</td>\n",
       "      <td>1823.25</td>\n",
       "      <td>2154.75</td>\n",
       "      <td>9</td>\n",
       "      <td>September</td>\n",
       "      <td>2019</td>\n",
       "    </tr>\n",
       "    <tr>\n",
       "      <th>2018-01-11</th>\n",
       "      <td>United States</td>\n",
       "      <td>White Chocolate Macadamia Nut</td>\n",
       "      <td>2574.0</td>\n",
       "      <td>6</td>\n",
       "      <td>2.75</td>\n",
       "      <td>15444.0</td>\n",
       "      <td>7078.50</td>\n",
       "      <td>8365.50</td>\n",
       "      <td>11</td>\n",
       "      <td>November</td>\n",
       "      <td>2018</td>\n",
       "    </tr>\n",
       "    <tr>\n",
       "      <th>2018-01-12</th>\n",
       "      <td>United States</td>\n",
       "      <td>White Chocolate Macadamia Nut</td>\n",
       "      <td>2438.0</td>\n",
       "      <td>6</td>\n",
       "      <td>2.75</td>\n",
       "      <td>14628.0</td>\n",
       "      <td>6704.50</td>\n",
       "      <td>7923.50</td>\n",
       "      <td>12</td>\n",
       "      <td>December</td>\n",
       "      <td>2018</td>\n",
       "    </tr>\n",
       "    <tr>\n",
       "      <th>2019-01-12</th>\n",
       "      <td>United States</td>\n",
       "      <td>White Chocolate Macadamia Nut</td>\n",
       "      <td>914.0</td>\n",
       "      <td>6</td>\n",
       "      <td>2.75</td>\n",
       "      <td>5484.0</td>\n",
       "      <td>2513.50</td>\n",
       "      <td>2970.50</td>\n",
       "      <td>12</td>\n",
       "      <td>December</td>\n",
       "      <td>2019</td>\n",
       "    </tr>\n",
       "  </tbody>\n",
       "</table>\n",
       "</div>"
      ],
      "text/plain": [
       "                  Country                        Product  Units Sold  \\\n",
       "Date                                                                   \n",
       "2019-01-05         France  White Chocolate Macadamia Nut      2826.0   \n",
       "2019-01-09         France  White Chocolate Macadamia Nut       663.0   \n",
       "2018-01-11  United States  White Chocolate Macadamia Nut      2574.0   \n",
       "2018-01-12  United States  White Chocolate Macadamia Nut      2438.0   \n",
       "2019-01-12  United States  White Chocolate Macadamia Nut       914.0   \n",
       "\n",
       "            Revenue per cookie  Cost per cookie  Revenue     Cost   Profit  \\\n",
       "Date                                                                         \n",
       "2019-01-05                   6             2.75  16956.0  7771.50  9184.50   \n",
       "2019-01-09                   6             2.75   3978.0  1823.25  2154.75   \n",
       "2018-01-11                   6             2.75  15444.0  7078.50  8365.50   \n",
       "2018-01-12                   6             2.75  14628.0  6704.50  7923.50   \n",
       "2019-01-12                   6             2.75   5484.0  2513.50  2970.50   \n",
       "\n",
       "            Month Number Month Name  Year  \n",
       "Date                                       \n",
       "2019-01-05             5        May  2019  \n",
       "2019-01-09             9  September  2019  \n",
       "2018-01-11            11   November  2018  \n",
       "2018-01-12            12   December  2018  \n",
       "2019-01-12            12   December  2019  "
      ]
     },
     "execution_count": 5,
     "metadata": {},
     "output_type": "execute_result"
    }
   ],
   "source": [
    "d.tail()"
   ]
  },
  {
   "cell_type": "markdown",
   "metadata": {},
   "source": [
    "#### Size of Dataset"
   ]
  },
  {
   "cell_type": "code",
   "execution_count": 6,
   "metadata": {},
   "outputs": [
    {
     "data": {
      "text/plain": [
       "(700, 11)"
      ]
     },
     "execution_count": 6,
     "metadata": {},
     "output_type": "execute_result"
    }
   ],
   "source": [
    "d.shape"
   ]
  },
  {
   "cell_type": "markdown",
   "metadata": {},
   "source": [
    "#### Data Types"
   ]
  },
  {
   "cell_type": "code",
   "execution_count": 7,
   "metadata": {},
   "outputs": [
    {
     "data": {
      "text/plain": [
       "Country                object\n",
       "Product                object\n",
       "Units Sold            float64\n",
       "Revenue per cookie      int64\n",
       "Cost per cookie       float64\n",
       "Revenue               float64\n",
       "Cost                  float64\n",
       "Profit                float64\n",
       "Month Number            int64\n",
       "Month Name             object\n",
       "Year                    int64\n",
       "dtype: object"
      ]
     },
     "execution_count": 7,
     "metadata": {},
     "output_type": "execute_result"
    }
   ],
   "source": [
    "d.dtypes"
   ]
  },
  {
   "cell_type": "markdown",
   "metadata": {},
   "source": [
    "####  Changing Units sold column to int dt from float dt"
   ]
  },
  {
   "cell_type": "code",
   "execution_count": 8,
   "metadata": {},
   "outputs": [],
   "source": [
    "d['Units Sold'] = d['Units Sold'].round(0).astype(int) "
   ]
  },
  {
   "cell_type": "markdown",
   "metadata": {},
   "source": [
    "#### Checking Dimensions "
   ]
  },
  {
   "cell_type": "code",
   "execution_count": 9,
   "metadata": {},
   "outputs": [
    {
     "data": {
      "text/plain": [
       "2"
      ]
     },
     "execution_count": 9,
     "metadata": {},
     "output_type": "execute_result"
    }
   ],
   "source": [
    "d.ndim "
   ]
  },
  {
   "cell_type": "markdown",
   "metadata": {},
   "source": [
    "#### Column Names"
   ]
  },
  {
   "cell_type": "code",
   "execution_count": 10,
   "metadata": {},
   "outputs": [
    {
     "data": {
      "text/plain": [
       "Index(['Country', 'Product', 'Units Sold', 'Revenue per cookie',\n",
       "       'Cost per cookie', 'Revenue', 'Cost', 'Profit', 'Month Number',\n",
       "       'Month Name', 'Year'],\n",
       "      dtype='object')"
      ]
     },
     "execution_count": 10,
     "metadata": {},
     "output_type": "execute_result"
    }
   ],
   "source": [
    "d.columns"
   ]
  },
  {
   "cell_type": "markdown",
   "metadata": {},
   "source": [
    "#### Dataset Information"
   ]
  },
  {
   "cell_type": "code",
   "execution_count": 11,
   "metadata": {},
   "outputs": [
    {
     "name": "stdout",
     "output_type": "stream",
     "text": [
      "<class 'pandas.core.frame.DataFrame'>\n",
      "DatetimeIndex: 700 entries, 2019-01-02 to 2019-01-12\n",
      "Data columns (total 11 columns):\n",
      " #   Column              Non-Null Count  Dtype  \n",
      "---  ------              --------------  -----  \n",
      " 0   Country             700 non-null    object \n",
      " 1   Product             700 non-null    object \n",
      " 2   Units Sold          700 non-null    int32  \n",
      " 3   Revenue per cookie  700 non-null    int64  \n",
      " 4   Cost per cookie     700 non-null    float64\n",
      " 5   Revenue             700 non-null    float64\n",
      " 6   Cost                700 non-null    float64\n",
      " 7   Profit              700 non-null    float64\n",
      " 8   Month Number        700 non-null    int64  \n",
      " 9   Month Name          700 non-null    object \n",
      " 10  Year                700 non-null    int64  \n",
      "dtypes: float64(4), int32(1), int64(3), object(3)\n",
      "memory usage: 62.9+ KB\n"
     ]
    }
   ],
   "source": [
    "d.info()"
   ]
  },
  {
   "cell_type": "markdown",
   "metadata": {},
   "source": [
    "#### Statistical Information"
   ]
  },
  {
   "cell_type": "code",
   "execution_count": 12,
   "metadata": {},
   "outputs": [
    {
     "data": {
      "text/html": [
       "<div>\n",
       "<style scoped>\n",
       "    .dataframe tbody tr th:only-of-type {\n",
       "        vertical-align: middle;\n",
       "    }\n",
       "\n",
       "    .dataframe tbody tr th {\n",
       "        vertical-align: top;\n",
       "    }\n",
       "\n",
       "    .dataframe thead th {\n",
       "        text-align: right;\n",
       "    }\n",
       "</style>\n",
       "<table border=\"1\" class=\"dataframe\">\n",
       "  <thead>\n",
       "    <tr style=\"text-align: right;\">\n",
       "      <th></th>\n",
       "      <th>Units Sold</th>\n",
       "      <th>Cost per cookie</th>\n",
       "      <th>Revenue</th>\n",
       "      <th>Cost</th>\n",
       "      <th>Profit</th>\n",
       "    </tr>\n",
       "  </thead>\n",
       "  <tbody>\n",
       "    <tr>\n",
       "      <th>count</th>\n",
       "      <td>700.000000</td>\n",
       "      <td>700.000000</td>\n",
       "      <td>700.000000</td>\n",
       "      <td>700.000000</td>\n",
       "      <td>700.000000</td>\n",
       "    </tr>\n",
       "    <tr>\n",
       "      <th>mean</th>\n",
       "      <td>1608.294286</td>\n",
       "      <td>1.721286</td>\n",
       "      <td>6700.357857</td>\n",
       "      <td>2752.752543</td>\n",
       "      <td>3947.605471</td>\n",
       "    </tr>\n",
       "    <tr>\n",
       "      <th>std</th>\n",
       "      <td>867.432720</td>\n",
       "      <td>0.753227</td>\n",
       "      <td>4623.793761</td>\n",
       "      <td>2036.959955</td>\n",
       "      <td>2615.761582</td>\n",
       "    </tr>\n",
       "    <tr>\n",
       "      <th>min</th>\n",
       "      <td>200.000000</td>\n",
       "      <td>0.200000</td>\n",
       "      <td>200.000000</td>\n",
       "      <td>40.000000</td>\n",
       "      <td>160.000000</td>\n",
       "    </tr>\n",
       "    <tr>\n",
       "      <th>25%</th>\n",
       "      <td>905.000000</td>\n",
       "      <td>1.250000</td>\n",
       "      <td>2854.000000</td>\n",
       "      <td>1112.812500</td>\n",
       "      <td>1848.487500</td>\n",
       "    </tr>\n",
       "    <tr>\n",
       "      <th>50%</th>\n",
       "      <td>1542.500000</td>\n",
       "      <td>2.000000</td>\n",
       "      <td>5871.500000</td>\n",
       "      <td>2423.600000</td>\n",
       "      <td>3424.500000</td>\n",
       "    </tr>\n",
       "    <tr>\n",
       "      <th>75%</th>\n",
       "      <td>2229.500000</td>\n",
       "      <td>2.200000</td>\n",
       "      <td>9580.000000</td>\n",
       "      <td>3925.700000</td>\n",
       "      <td>5566.050000</td>\n",
       "    </tr>\n",
       "    <tr>\n",
       "      <th>max</th>\n",
       "      <td>4492.000000</td>\n",
       "      <td>2.750000</td>\n",
       "      <td>23985.000000</td>\n",
       "      <td>10993.130000</td>\n",
       "      <td>13477.500000</td>\n",
       "    </tr>\n",
       "  </tbody>\n",
       "</table>\n",
       "</div>"
      ],
      "text/plain": [
       "        Units Sold  Cost per cookie       Revenue          Cost        Profit\n",
       "count   700.000000       700.000000    700.000000    700.000000    700.000000\n",
       "mean   1608.294286         1.721286   6700.357857   2752.752543   3947.605471\n",
       "std     867.432720         0.753227   4623.793761   2036.959955   2615.761582\n",
       "min     200.000000         0.200000    200.000000     40.000000    160.000000\n",
       "25%     905.000000         1.250000   2854.000000   1112.812500   1848.487500\n",
       "50%    1542.500000         2.000000   5871.500000   2423.600000   3424.500000\n",
       "75%    2229.500000         2.200000   9580.000000   3925.700000   5566.050000\n",
       "max    4492.000000         2.750000  23985.000000  10993.130000  13477.500000"
      ]
     },
     "execution_count": 12,
     "metadata": {},
     "output_type": "execute_result"
    }
   ],
   "source": [
    "d.describe(exclude=['object','int64']) "
   ]
  },
  {
   "cell_type": "markdown",
   "metadata": {},
   "source": [
    "### Checking for missing values"
   ]
  },
  {
   "cell_type": "code",
   "execution_count": 13,
   "metadata": {},
   "outputs": [
    {
     "data": {
      "text/html": [
       "<div>\n",
       "<style scoped>\n",
       "    .dataframe tbody tr th:only-of-type {\n",
       "        vertical-align: middle;\n",
       "    }\n",
       "\n",
       "    .dataframe tbody tr th {\n",
       "        vertical-align: top;\n",
       "    }\n",
       "\n",
       "    .dataframe thead th {\n",
       "        text-align: right;\n",
       "    }\n",
       "</style>\n",
       "<table border=\"1\" class=\"dataframe\">\n",
       "  <thead>\n",
       "    <tr style=\"text-align: right;\">\n",
       "      <th></th>\n",
       "      <th>Country</th>\n",
       "      <th>Product</th>\n",
       "      <th>Units Sold</th>\n",
       "      <th>Revenue per cookie</th>\n",
       "      <th>Cost per cookie</th>\n",
       "      <th>Revenue</th>\n",
       "      <th>Cost</th>\n",
       "      <th>Profit</th>\n",
       "      <th>Month Number</th>\n",
       "      <th>Month Name</th>\n",
       "      <th>Year</th>\n",
       "    </tr>\n",
       "    <tr>\n",
       "      <th>Date</th>\n",
       "      <th></th>\n",
       "      <th></th>\n",
       "      <th></th>\n",
       "      <th></th>\n",
       "      <th></th>\n",
       "      <th></th>\n",
       "      <th></th>\n",
       "      <th></th>\n",
       "      <th></th>\n",
       "      <th></th>\n",
       "      <th></th>\n",
       "    </tr>\n",
       "  </thead>\n",
       "  <tbody>\n",
       "    <tr>\n",
       "      <th>2019-01-02</th>\n",
       "      <td>False</td>\n",
       "      <td>False</td>\n",
       "      <td>False</td>\n",
       "      <td>False</td>\n",
       "      <td>False</td>\n",
       "      <td>False</td>\n",
       "      <td>False</td>\n",
       "      <td>False</td>\n",
       "      <td>False</td>\n",
       "      <td>False</td>\n",
       "      <td>False</td>\n",
       "    </tr>\n",
       "    <tr>\n",
       "      <th>2019-01-02</th>\n",
       "      <td>False</td>\n",
       "      <td>False</td>\n",
       "      <td>False</td>\n",
       "      <td>False</td>\n",
       "      <td>False</td>\n",
       "      <td>False</td>\n",
       "      <td>False</td>\n",
       "      <td>False</td>\n",
       "      <td>False</td>\n",
       "      <td>False</td>\n",
       "      <td>False</td>\n",
       "    </tr>\n",
       "    <tr>\n",
       "      <th>2019-01-06</th>\n",
       "      <td>False</td>\n",
       "      <td>False</td>\n",
       "      <td>False</td>\n",
       "      <td>False</td>\n",
       "      <td>False</td>\n",
       "      <td>False</td>\n",
       "      <td>False</td>\n",
       "      <td>False</td>\n",
       "      <td>False</td>\n",
       "      <td>False</td>\n",
       "      <td>False</td>\n",
       "    </tr>\n",
       "    <tr>\n",
       "      <th>2019-01-06</th>\n",
       "      <td>False</td>\n",
       "      <td>False</td>\n",
       "      <td>False</td>\n",
       "      <td>False</td>\n",
       "      <td>False</td>\n",
       "      <td>False</td>\n",
       "      <td>False</td>\n",
       "      <td>False</td>\n",
       "      <td>False</td>\n",
       "      <td>False</td>\n",
       "      <td>False</td>\n",
       "    </tr>\n",
       "    <tr>\n",
       "      <th>2019-01-07</th>\n",
       "      <td>False</td>\n",
       "      <td>False</td>\n",
       "      <td>False</td>\n",
       "      <td>False</td>\n",
       "      <td>False</td>\n",
       "      <td>False</td>\n",
       "      <td>False</td>\n",
       "      <td>False</td>\n",
       "      <td>False</td>\n",
       "      <td>False</td>\n",
       "      <td>False</td>\n",
       "    </tr>\n",
       "    <tr>\n",
       "      <th>...</th>\n",
       "      <td>...</td>\n",
       "      <td>...</td>\n",
       "      <td>...</td>\n",
       "      <td>...</td>\n",
       "      <td>...</td>\n",
       "      <td>...</td>\n",
       "      <td>...</td>\n",
       "      <td>...</td>\n",
       "      <td>...</td>\n",
       "      <td>...</td>\n",
       "      <td>...</td>\n",
       "    </tr>\n",
       "    <tr>\n",
       "      <th>2019-01-05</th>\n",
       "      <td>False</td>\n",
       "      <td>False</td>\n",
       "      <td>False</td>\n",
       "      <td>False</td>\n",
       "      <td>False</td>\n",
       "      <td>False</td>\n",
       "      <td>False</td>\n",
       "      <td>False</td>\n",
       "      <td>False</td>\n",
       "      <td>False</td>\n",
       "      <td>False</td>\n",
       "    </tr>\n",
       "    <tr>\n",
       "      <th>2019-01-09</th>\n",
       "      <td>False</td>\n",
       "      <td>False</td>\n",
       "      <td>False</td>\n",
       "      <td>False</td>\n",
       "      <td>False</td>\n",
       "      <td>False</td>\n",
       "      <td>False</td>\n",
       "      <td>False</td>\n",
       "      <td>False</td>\n",
       "      <td>False</td>\n",
       "      <td>False</td>\n",
       "    </tr>\n",
       "    <tr>\n",
       "      <th>2018-01-11</th>\n",
       "      <td>False</td>\n",
       "      <td>False</td>\n",
       "      <td>False</td>\n",
       "      <td>False</td>\n",
       "      <td>False</td>\n",
       "      <td>False</td>\n",
       "      <td>False</td>\n",
       "      <td>False</td>\n",
       "      <td>False</td>\n",
       "      <td>False</td>\n",
       "      <td>False</td>\n",
       "    </tr>\n",
       "    <tr>\n",
       "      <th>2018-01-12</th>\n",
       "      <td>False</td>\n",
       "      <td>False</td>\n",
       "      <td>False</td>\n",
       "      <td>False</td>\n",
       "      <td>False</td>\n",
       "      <td>False</td>\n",
       "      <td>False</td>\n",
       "      <td>False</td>\n",
       "      <td>False</td>\n",
       "      <td>False</td>\n",
       "      <td>False</td>\n",
       "    </tr>\n",
       "    <tr>\n",
       "      <th>2019-01-12</th>\n",
       "      <td>False</td>\n",
       "      <td>False</td>\n",
       "      <td>False</td>\n",
       "      <td>False</td>\n",
       "      <td>False</td>\n",
       "      <td>False</td>\n",
       "      <td>False</td>\n",
       "      <td>False</td>\n",
       "      <td>False</td>\n",
       "      <td>False</td>\n",
       "      <td>False</td>\n",
       "    </tr>\n",
       "  </tbody>\n",
       "</table>\n",
       "<p>700 rows × 11 columns</p>\n",
       "</div>"
      ],
      "text/plain": [
       "            Country  Product  Units Sold  Revenue per cookie  Cost per cookie  \\\n",
       "Date                                                                            \n",
       "2019-01-02    False    False       False               False            False   \n",
       "2019-01-02    False    False       False               False            False   \n",
       "2019-01-06    False    False       False               False            False   \n",
       "2019-01-06    False    False       False               False            False   \n",
       "2019-01-07    False    False       False               False            False   \n",
       "...             ...      ...         ...                 ...              ...   \n",
       "2019-01-05    False    False       False               False            False   \n",
       "2019-01-09    False    False       False               False            False   \n",
       "2018-01-11    False    False       False               False            False   \n",
       "2018-01-12    False    False       False               False            False   \n",
       "2019-01-12    False    False       False               False            False   \n",
       "\n",
       "            Revenue   Cost  Profit  Month Number  Month Name   Year  \n",
       "Date                                                                 \n",
       "2019-01-02    False  False   False         False       False  False  \n",
       "2019-01-02    False  False   False         False       False  False  \n",
       "2019-01-06    False  False   False         False       False  False  \n",
       "2019-01-06    False  False   False         False       False  False  \n",
       "2019-01-07    False  False   False         False       False  False  \n",
       "...             ...    ...     ...           ...         ...    ...  \n",
       "2019-01-05    False  False   False         False       False  False  \n",
       "2019-01-09    False  False   False         False       False  False  \n",
       "2018-01-11    False  False   False         False       False  False  \n",
       "2018-01-12    False  False   False         False       False  False  \n",
       "2019-01-12    False  False   False         False       False  False  \n",
       "\n",
       "[700 rows x 11 columns]"
      ]
     },
     "execution_count": 13,
     "metadata": {},
     "output_type": "execute_result"
    }
   ],
   "source": [
    "d.isna() "
   ]
  },
  {
   "cell_type": "markdown",
   "metadata": {},
   "source": [
    " #### Sum of missing values"
   ]
  },
  {
   "cell_type": "code",
   "execution_count": 14,
   "metadata": {},
   "outputs": [
    {
     "data": {
      "text/plain": [
       "Country               0\n",
       "Product               0\n",
       "Units Sold            0\n",
       "Revenue per cookie    0\n",
       "Cost per cookie       0\n",
       "Revenue               0\n",
       "Cost                  0\n",
       "Profit                0\n",
       "Month Number          0\n",
       "Month Name            0\n",
       "Year                  0\n",
       "dtype: int64"
      ]
     },
     "execution_count": 14,
     "metadata": {},
     "output_type": "execute_result"
    }
   ],
   "source": [
    "d.isna().sum()"
   ]
  },
  {
   "cell_type": "markdown",
   "metadata": {},
   "source": [
    "#### Check for duplicate values"
   ]
  },
  {
   "cell_type": "code",
   "execution_count": 15,
   "metadata": {},
   "outputs": [
    {
     "data": {
      "text/plain": [
       "Date\n",
       "2019-01-02    False\n",
       "2019-01-02    False\n",
       "2019-01-06    False\n",
       "2019-01-06    False\n",
       "2019-01-07    False\n",
       "              ...  \n",
       "2019-01-05    False\n",
       "2019-01-09    False\n",
       "2018-01-11    False\n",
       "2018-01-12    False\n",
       "2019-01-12    False\n",
       "Length: 700, dtype: bool"
      ]
     },
     "execution_count": 15,
     "metadata": {},
     "output_type": "execute_result"
    }
   ],
   "source": [
    "d.duplicated()"
   ]
  },
  {
   "cell_type": "markdown",
   "metadata": {},
   "source": [
    "#### No. of unique values "
   ]
  },
  {
   "cell_type": "code",
   "execution_count": 16,
   "metadata": {},
   "outputs": [
    {
     "data": {
      "text/plain": [
       "Country                 5\n",
       "Product                 6\n",
       "Units Sold            508\n",
       "Revenue per cookie      5\n",
       "Cost per cookie         6\n",
       "Revenue               662\n",
       "Cost                  677\n",
       "Profit                680\n",
       "Month Number           12\n",
       "Month Name             12\n",
       "Year                    2\n",
       "dtype: int64"
      ]
     },
     "execution_count": 16,
     "metadata": {},
     "output_type": "execute_result"
    }
   ],
   "source": [
    "d.nunique() "
   ]
  },
  {
   "cell_type": "markdown",
   "metadata": {},
   "source": [
    "#### Unique country"
   ]
  },
  {
   "cell_type": "code",
   "execution_count": 17,
   "metadata": {},
   "outputs": [
    {
     "data": {
      "text/plain": [
       "array(['Canada', 'Mexico', 'Germany', 'France', 'United States'],\n",
       "      dtype=object)"
      ]
     },
     "execution_count": 17,
     "metadata": {},
     "output_type": "execute_result"
    }
   ],
   "source": [
    "d.Country.unique() "
   ]
  },
  {
   "cell_type": "markdown",
   "metadata": {},
   "source": [
    "#### Unique Product"
   ]
  },
  {
   "cell_type": "code",
   "execution_count": 18,
   "metadata": {},
   "outputs": [
    {
     "data": {
      "text/plain": [
       "array(['Chocolate Chip', 'Fortune Cookie', 'Oatmeal Raisin',\n",
       "       'Snickerdoodle', 'Sugar', 'White Chocolate Macadamia Nut'],\n",
       "      dtype=object)"
      ]
     },
     "execution_count": 18,
     "metadata": {},
     "output_type": "execute_result"
    }
   ],
   "source": [
    "d.Product.unique() "
   ]
  },
  {
   "cell_type": "markdown",
   "metadata": {},
   "source": [
    "#### Country count"
   ]
  },
  {
   "cell_type": "code",
   "execution_count": 19,
   "metadata": {},
   "outputs": [
    {
     "data": {
      "text/plain": [
       "Germany          140\n",
       "Mexico           140\n",
       "Canada           140\n",
       "United States    140\n",
       "France           140\n",
       "Name: Country, dtype: int64"
      ]
     },
     "execution_count": 19,
     "metadata": {},
     "output_type": "execute_result"
    }
   ],
   "source": [
    "d.Country.value_counts() "
   ]
  },
  {
   "cell_type": "markdown",
   "metadata": {},
   "source": [
    "#### Sorting Data Date wise in ascending Order"
   ]
  },
  {
   "cell_type": "code",
   "execution_count": 20,
   "metadata": {
    "scrolled": true
   },
   "outputs": [
    {
     "data": {
      "text/html": [
       "<div>\n",
       "<style scoped>\n",
       "    .dataframe tbody tr th:only-of-type {\n",
       "        vertical-align: middle;\n",
       "    }\n",
       "\n",
       "    .dataframe tbody tr th {\n",
       "        vertical-align: top;\n",
       "    }\n",
       "\n",
       "    .dataframe thead th {\n",
       "        text-align: right;\n",
       "    }\n",
       "</style>\n",
       "<table border=\"1\" class=\"dataframe\">\n",
       "  <thead>\n",
       "    <tr style=\"text-align: right;\">\n",
       "      <th></th>\n",
       "      <th>Country</th>\n",
       "      <th>Product</th>\n",
       "      <th>Units Sold</th>\n",
       "      <th>Revenue per cookie</th>\n",
       "      <th>Cost per cookie</th>\n",
       "      <th>Revenue</th>\n",
       "      <th>Cost</th>\n",
       "      <th>Profit</th>\n",
       "      <th>Month Number</th>\n",
       "      <th>Month Name</th>\n",
       "      <th>Year</th>\n",
       "    </tr>\n",
       "    <tr>\n",
       "      <th>Date</th>\n",
       "      <th></th>\n",
       "      <th></th>\n",
       "      <th></th>\n",
       "      <th></th>\n",
       "      <th></th>\n",
       "      <th></th>\n",
       "      <th></th>\n",
       "      <th></th>\n",
       "      <th></th>\n",
       "      <th></th>\n",
       "      <th></th>\n",
       "    </tr>\n",
       "  </thead>\n",
       "  <tbody>\n",
       "    <tr>\n",
       "      <th>2018-01-09</th>\n",
       "      <td>United States</td>\n",
       "      <td>Fortune Cookie</td>\n",
       "      <td>2498</td>\n",
       "      <td>1</td>\n",
       "      <td>0.20</td>\n",
       "      <td>2498.0</td>\n",
       "      <td>499.60</td>\n",
       "      <td>1998.40</td>\n",
       "      <td>9</td>\n",
       "      <td>September</td>\n",
       "      <td>2018</td>\n",
       "    </tr>\n",
       "    <tr>\n",
       "      <th>2018-01-09</th>\n",
       "      <td>United States</td>\n",
       "      <td>White Chocolate Macadamia Nut</td>\n",
       "      <td>736</td>\n",
       "      <td>6</td>\n",
       "      <td>2.75</td>\n",
       "      <td>4416.0</td>\n",
       "      <td>2024.00</td>\n",
       "      <td>2392.00</td>\n",
       "      <td>9</td>\n",
       "      <td>September</td>\n",
       "      <td>2018</td>\n",
       "    </tr>\n",
       "    <tr>\n",
       "      <th>2018-01-09</th>\n",
       "      <td>Canada</td>\n",
       "      <td>Chocolate Chip</td>\n",
       "      <td>2470</td>\n",
       "      <td>5</td>\n",
       "      <td>2.00</td>\n",
       "      <td>12350.0</td>\n",
       "      <td>4940.00</td>\n",
       "      <td>7410.00</td>\n",
       "      <td>9</td>\n",
       "      <td>September</td>\n",
       "      <td>2018</td>\n",
       "    </tr>\n",
       "    <tr>\n",
       "      <th>2018-01-09</th>\n",
       "      <td>Germany</td>\n",
       "      <td>Sugar</td>\n",
       "      <td>2215</td>\n",
       "      <td>3</td>\n",
       "      <td>1.25</td>\n",
       "      <td>6645.0</td>\n",
       "      <td>2768.75</td>\n",
       "      <td>3876.25</td>\n",
       "      <td>9</td>\n",
       "      <td>September</td>\n",
       "      <td>2018</td>\n",
       "    </tr>\n",
       "    <tr>\n",
       "      <th>2018-01-09</th>\n",
       "      <td>Canada</td>\n",
       "      <td>White Chocolate Macadamia Nut</td>\n",
       "      <td>2646</td>\n",
       "      <td>6</td>\n",
       "      <td>2.75</td>\n",
       "      <td>15876.0</td>\n",
       "      <td>7276.50</td>\n",
       "      <td>8599.50</td>\n",
       "      <td>9</td>\n",
       "      <td>September</td>\n",
       "      <td>2018</td>\n",
       "    </tr>\n",
       "  </tbody>\n",
       "</table>\n",
       "</div>"
      ],
      "text/plain": [
       "                  Country                        Product  Units Sold  \\\n",
       "Date                                                                   \n",
       "2018-01-09  United States                 Fortune Cookie        2498   \n",
       "2018-01-09  United States  White Chocolate Macadamia Nut         736   \n",
       "2018-01-09         Canada                 Chocolate Chip        2470   \n",
       "2018-01-09        Germany                          Sugar        2215   \n",
       "2018-01-09         Canada  White Chocolate Macadamia Nut        2646   \n",
       "\n",
       "            Revenue per cookie  Cost per cookie  Revenue     Cost   Profit  \\\n",
       "Date                                                                         \n",
       "2018-01-09                   1             0.20   2498.0   499.60  1998.40   \n",
       "2018-01-09                   6             2.75   4416.0  2024.00  2392.00   \n",
       "2018-01-09                   5             2.00  12350.0  4940.00  7410.00   \n",
       "2018-01-09                   3             1.25   6645.0  2768.75  3876.25   \n",
       "2018-01-09                   6             2.75  15876.0  7276.50  8599.50   \n",
       "\n",
       "            Month Number Month Name  Year  \n",
       "Date                                       \n",
       "2018-01-09             9  September  2018  \n",
       "2018-01-09             9  September  2018  \n",
       "2018-01-09             9  September  2018  \n",
       "2018-01-09             9  September  2018  \n",
       "2018-01-09             9  September  2018  "
      ]
     },
     "execution_count": 20,
     "metadata": {},
     "output_type": "execute_result"
    }
   ],
   "source": [
    "d.sort_values('Date' , ascending = True).head()  "
   ]
  },
  {
   "cell_type": "markdown",
   "metadata": {},
   "source": [
    "#### Records with Country as United States and printing top 5 Rows"
   ]
  },
  {
   "cell_type": "code",
   "execution_count": 21,
   "metadata": {
    "scrolled": true
   },
   "outputs": [
    {
     "data": {
      "text/html": [
       "<div>\n",
       "<style scoped>\n",
       "    .dataframe tbody tr th:only-of-type {\n",
       "        vertical-align: middle;\n",
       "    }\n",
       "\n",
       "    .dataframe tbody tr th {\n",
       "        vertical-align: top;\n",
       "    }\n",
       "\n",
       "    .dataframe thead th {\n",
       "        text-align: right;\n",
       "    }\n",
       "</style>\n",
       "<table border=\"1\" class=\"dataframe\">\n",
       "  <thead>\n",
       "    <tr style=\"text-align: right;\">\n",
       "      <th></th>\n",
       "      <th>Country</th>\n",
       "      <th>Product</th>\n",
       "      <th>Units Sold</th>\n",
       "      <th>Revenue per cookie</th>\n",
       "      <th>Cost per cookie</th>\n",
       "      <th>Revenue</th>\n",
       "      <th>Cost</th>\n",
       "      <th>Profit</th>\n",
       "      <th>Month Number</th>\n",
       "      <th>Month Name</th>\n",
       "      <th>Year</th>\n",
       "    </tr>\n",
       "    <tr>\n",
       "      <th>Date</th>\n",
       "      <th></th>\n",
       "      <th></th>\n",
       "      <th></th>\n",
       "      <th></th>\n",
       "      <th></th>\n",
       "      <th></th>\n",
       "      <th></th>\n",
       "      <th></th>\n",
       "      <th></th>\n",
       "      <th></th>\n",
       "      <th></th>\n",
       "    </tr>\n",
       "  </thead>\n",
       "  <tbody>\n",
       "    <tr>\n",
       "      <th>2019-01-10</th>\n",
       "      <td>United States</td>\n",
       "      <td>Chocolate Chip</td>\n",
       "      <td>1143</td>\n",
       "      <td>5</td>\n",
       "      <td>2.0</td>\n",
       "      <td>5715.0</td>\n",
       "      <td>2286.0</td>\n",
       "      <td>3429.0</td>\n",
       "      <td>10</td>\n",
       "      <td>October</td>\n",
       "      <td>2019</td>\n",
       "    </tr>\n",
       "    <tr>\n",
       "      <th>2018-01-11</th>\n",
       "      <td>United States</td>\n",
       "      <td>Chocolate Chip</td>\n",
       "      <td>912</td>\n",
       "      <td>5</td>\n",
       "      <td>2.0</td>\n",
       "      <td>4560.0</td>\n",
       "      <td>1824.0</td>\n",
       "      <td>2736.0</td>\n",
       "      <td>11</td>\n",
       "      <td>November</td>\n",
       "      <td>2018</td>\n",
       "    </tr>\n",
       "    <tr>\n",
       "      <th>2019-01-02</th>\n",
       "      <td>United States</td>\n",
       "      <td>Chocolate Chip</td>\n",
       "      <td>1514</td>\n",
       "      <td>5</td>\n",
       "      <td>2.0</td>\n",
       "      <td>7570.0</td>\n",
       "      <td>3028.0</td>\n",
       "      <td>4542.0</td>\n",
       "      <td>2</td>\n",
       "      <td>February</td>\n",
       "      <td>2019</td>\n",
       "    </tr>\n",
       "    <tr>\n",
       "      <th>2019-01-04</th>\n",
       "      <td>United States</td>\n",
       "      <td>Chocolate Chip</td>\n",
       "      <td>4492</td>\n",
       "      <td>5</td>\n",
       "      <td>2.0</td>\n",
       "      <td>22462.5</td>\n",
       "      <td>8985.0</td>\n",
       "      <td>13477.5</td>\n",
       "      <td>4</td>\n",
       "      <td>April</td>\n",
       "      <td>2019</td>\n",
       "    </tr>\n",
       "    <tr>\n",
       "      <th>2019-01-06</th>\n",
       "      <td>United States</td>\n",
       "      <td>Chocolate Chip</td>\n",
       "      <td>727</td>\n",
       "      <td>5</td>\n",
       "      <td>2.0</td>\n",
       "      <td>3635.0</td>\n",
       "      <td>1454.0</td>\n",
       "      <td>2181.0</td>\n",
       "      <td>6</td>\n",
       "      <td>June</td>\n",
       "      <td>2019</td>\n",
       "    </tr>\n",
       "  </tbody>\n",
       "</table>\n",
       "</div>"
      ],
      "text/plain": [
       "                  Country         Product  Units Sold  Revenue per cookie  \\\n",
       "Date                                                                        \n",
       "2019-01-10  United States  Chocolate Chip        1143                   5   \n",
       "2018-01-11  United States  Chocolate Chip         912                   5   \n",
       "2019-01-02  United States  Chocolate Chip        1514                   5   \n",
       "2019-01-04  United States  Chocolate Chip        4492                   5   \n",
       "2019-01-06  United States  Chocolate Chip         727                   5   \n",
       "\n",
       "            Cost per cookie  Revenue    Cost   Profit  Month Number  \\\n",
       "Date                                                                  \n",
       "2019-01-10              2.0   5715.0  2286.0   3429.0            10   \n",
       "2018-01-11              2.0   4560.0  1824.0   2736.0            11   \n",
       "2019-01-02              2.0   7570.0  3028.0   4542.0             2   \n",
       "2019-01-04              2.0  22462.5  8985.0  13477.5             4   \n",
       "2019-01-06              2.0   3635.0  1454.0   2181.0             6   \n",
       "\n",
       "           Month Name  Year  \n",
       "Date                         \n",
       "2019-01-10    October  2019  \n",
       "2018-01-11   November  2018  \n",
       "2019-01-02   February  2019  \n",
       "2019-01-04      April  2019  \n",
       "2019-01-06       June  2019  "
      ]
     },
     "execution_count": 21,
     "metadata": {},
     "output_type": "execute_result"
    }
   ],
   "source": [
    "d_usa = d[d['Country'] == 'United States'] \n",
    "d_usa.head()"
   ]
  },
  {
   "cell_type": "markdown",
   "metadata": {},
   "source": [
    "#### Records with Country as Mexico and printing top 5 rows"
   ]
  },
  {
   "cell_type": "code",
   "execution_count": 22,
   "metadata": {
    "scrolled": true
   },
   "outputs": [
    {
     "data": {
      "text/html": [
       "<div>\n",
       "<style scoped>\n",
       "    .dataframe tbody tr th:only-of-type {\n",
       "        vertical-align: middle;\n",
       "    }\n",
       "\n",
       "    .dataframe tbody tr th {\n",
       "        vertical-align: top;\n",
       "    }\n",
       "\n",
       "    .dataframe thead th {\n",
       "        text-align: right;\n",
       "    }\n",
       "</style>\n",
       "<table border=\"1\" class=\"dataframe\">\n",
       "  <thead>\n",
       "    <tr style=\"text-align: right;\">\n",
       "      <th></th>\n",
       "      <th>Country</th>\n",
       "      <th>Product</th>\n",
       "      <th>Units Sold</th>\n",
       "      <th>Revenue per cookie</th>\n",
       "      <th>Cost per cookie</th>\n",
       "      <th>Revenue</th>\n",
       "      <th>Cost</th>\n",
       "      <th>Profit</th>\n",
       "      <th>Month Number</th>\n",
       "      <th>Month Name</th>\n",
       "      <th>Year</th>\n",
       "    </tr>\n",
       "    <tr>\n",
       "      <th>Date</th>\n",
       "      <th></th>\n",
       "      <th></th>\n",
       "      <th></th>\n",
       "      <th></th>\n",
       "      <th></th>\n",
       "      <th></th>\n",
       "      <th></th>\n",
       "      <th></th>\n",
       "      <th></th>\n",
       "      <th></th>\n",
       "      <th></th>\n",
       "    </tr>\n",
       "  </thead>\n",
       "  <tbody>\n",
       "    <tr>\n",
       "      <th>2019-01-02</th>\n",
       "      <td>Mexico</td>\n",
       "      <td>Chocolate Chip</td>\n",
       "      <td>974</td>\n",
       "      <td>5</td>\n",
       "      <td>2.0</td>\n",
       "      <td>4870.0</td>\n",
       "      <td>1948.0</td>\n",
       "      <td>2922.0</td>\n",
       "      <td>2</td>\n",
       "      <td>February</td>\n",
       "      <td>2019</td>\n",
       "    </tr>\n",
       "    <tr>\n",
       "      <th>2019-01-08</th>\n",
       "      <td>Mexico</td>\n",
       "      <td>Chocolate Chip</td>\n",
       "      <td>883</td>\n",
       "      <td>5</td>\n",
       "      <td>2.0</td>\n",
       "      <td>4415.0</td>\n",
       "      <td>1766.0</td>\n",
       "      <td>2649.0</td>\n",
       "      <td>8</td>\n",
       "      <td>August</td>\n",
       "      <td>2019</td>\n",
       "    </tr>\n",
       "    <tr>\n",
       "      <th>2018-01-09</th>\n",
       "      <td>Mexico</td>\n",
       "      <td>Chocolate Chip</td>\n",
       "      <td>788</td>\n",
       "      <td>5</td>\n",
       "      <td>2.0</td>\n",
       "      <td>3940.0</td>\n",
       "      <td>1576.0</td>\n",
       "      <td>2364.0</td>\n",
       "      <td>9</td>\n",
       "      <td>September</td>\n",
       "      <td>2018</td>\n",
       "    </tr>\n",
       "    <tr>\n",
       "      <th>2019-01-09</th>\n",
       "      <td>Mexico</td>\n",
       "      <td>Chocolate Chip</td>\n",
       "      <td>2472</td>\n",
       "      <td>5</td>\n",
       "      <td>2.0</td>\n",
       "      <td>12360.0</td>\n",
       "      <td>4944.0</td>\n",
       "      <td>7416.0</td>\n",
       "      <td>9</td>\n",
       "      <td>September</td>\n",
       "      <td>2019</td>\n",
       "    </tr>\n",
       "    <tr>\n",
       "      <th>2019-01-07</th>\n",
       "      <td>Mexico</td>\n",
       "      <td>Chocolate Chip</td>\n",
       "      <td>1823</td>\n",
       "      <td>5</td>\n",
       "      <td>2.0</td>\n",
       "      <td>9115.0</td>\n",
       "      <td>3646.0</td>\n",
       "      <td>5469.0</td>\n",
       "      <td>7</td>\n",
       "      <td>July</td>\n",
       "      <td>2019</td>\n",
       "    </tr>\n",
       "  </tbody>\n",
       "</table>\n",
       "</div>"
      ],
      "text/plain": [
       "           Country         Product  Units Sold  Revenue per cookie  \\\n",
       "Date                                                                 \n",
       "2019-01-02  Mexico  Chocolate Chip         974                   5   \n",
       "2019-01-08  Mexico  Chocolate Chip         883                   5   \n",
       "2018-01-09  Mexico  Chocolate Chip         788                   5   \n",
       "2019-01-09  Mexico  Chocolate Chip        2472                   5   \n",
       "2019-01-07  Mexico  Chocolate Chip        1823                   5   \n",
       "\n",
       "            Cost per cookie  Revenue    Cost  Profit  Month Number Month Name  \\\n",
       "Date                                                                            \n",
       "2019-01-02              2.0   4870.0  1948.0  2922.0             2   February   \n",
       "2019-01-08              2.0   4415.0  1766.0  2649.0             8     August   \n",
       "2018-01-09              2.0   3940.0  1576.0  2364.0             9  September   \n",
       "2019-01-09              2.0  12360.0  4944.0  7416.0             9  September   \n",
       "2019-01-07              2.0   9115.0  3646.0  5469.0             7       July   \n",
       "\n",
       "            Year  \n",
       "Date              \n",
       "2019-01-02  2019  \n",
       "2019-01-08  2019  \n",
       "2018-01-09  2018  \n",
       "2019-01-09  2019  \n",
       "2019-01-07  2019  "
      ]
     },
     "execution_count": 22,
     "metadata": {},
     "output_type": "execute_result"
    }
   ],
   "source": [
    "d_mexico = d[d['Country'] == 'Mexico'] \n",
    "d_mexico.head()"
   ]
  },
  {
   "cell_type": "markdown",
   "metadata": {},
   "source": [
    "#### Records with Country as France and printing Top 5 Rows"
   ]
  },
  {
   "cell_type": "code",
   "execution_count": 23,
   "metadata": {
    "scrolled": true
   },
   "outputs": [
    {
     "data": {
      "text/html": [
       "<div>\n",
       "<style scoped>\n",
       "    .dataframe tbody tr th:only-of-type {\n",
       "        vertical-align: middle;\n",
       "    }\n",
       "\n",
       "    .dataframe tbody tr th {\n",
       "        vertical-align: top;\n",
       "    }\n",
       "\n",
       "    .dataframe thead th {\n",
       "        text-align: right;\n",
       "    }\n",
       "</style>\n",
       "<table border=\"1\" class=\"dataframe\">\n",
       "  <thead>\n",
       "    <tr style=\"text-align: right;\">\n",
       "      <th></th>\n",
       "      <th>Country</th>\n",
       "      <th>Product</th>\n",
       "      <th>Units Sold</th>\n",
       "      <th>Revenue per cookie</th>\n",
       "      <th>Cost per cookie</th>\n",
       "      <th>Revenue</th>\n",
       "      <th>Cost</th>\n",
       "      <th>Profit</th>\n",
       "      <th>Month Number</th>\n",
       "      <th>Month Name</th>\n",
       "      <th>Year</th>\n",
       "    </tr>\n",
       "    <tr>\n",
       "      <th>Date</th>\n",
       "      <th></th>\n",
       "      <th></th>\n",
       "      <th></th>\n",
       "      <th></th>\n",
       "      <th></th>\n",
       "      <th></th>\n",
       "      <th></th>\n",
       "      <th></th>\n",
       "      <th></th>\n",
       "      <th></th>\n",
       "      <th></th>\n",
       "    </tr>\n",
       "  </thead>\n",
       "  <tbody>\n",
       "    <tr>\n",
       "      <th>2018-01-09</th>\n",
       "      <td>France</td>\n",
       "      <td>Chocolate Chip</td>\n",
       "      <td>549</td>\n",
       "      <td>5</td>\n",
       "      <td>2.0</td>\n",
       "      <td>2745.0</td>\n",
       "      <td>1098.0</td>\n",
       "      <td>1647.0</td>\n",
       "      <td>9</td>\n",
       "      <td>September</td>\n",
       "      <td>2018</td>\n",
       "    </tr>\n",
       "    <tr>\n",
       "      <th>2019-01-01</th>\n",
       "      <td>France</td>\n",
       "      <td>Chocolate Chip</td>\n",
       "      <td>3945</td>\n",
       "      <td>5</td>\n",
       "      <td>2.0</td>\n",
       "      <td>19725.0</td>\n",
       "      <td>7890.0</td>\n",
       "      <td>11835.0</td>\n",
       "      <td>1</td>\n",
       "      <td>January</td>\n",
       "      <td>2019</td>\n",
       "    </tr>\n",
       "    <tr>\n",
       "      <th>2019-01-02</th>\n",
       "      <td>France</td>\n",
       "      <td>Chocolate Chip</td>\n",
       "      <td>2296</td>\n",
       "      <td>5</td>\n",
       "      <td>2.0</td>\n",
       "      <td>11480.0</td>\n",
       "      <td>4592.0</td>\n",
       "      <td>6888.0</td>\n",
       "      <td>2</td>\n",
       "      <td>February</td>\n",
       "      <td>2019</td>\n",
       "    </tr>\n",
       "    <tr>\n",
       "      <th>2019-01-05</th>\n",
       "      <td>France</td>\n",
       "      <td>Chocolate Chip</td>\n",
       "      <td>1030</td>\n",
       "      <td>5</td>\n",
       "      <td>2.0</td>\n",
       "      <td>5150.0</td>\n",
       "      <td>2060.0</td>\n",
       "      <td>3090.0</td>\n",
       "      <td>5</td>\n",
       "      <td>May</td>\n",
       "      <td>2019</td>\n",
       "    </tr>\n",
       "    <tr>\n",
       "      <th>2019-01-06</th>\n",
       "      <td>France</td>\n",
       "      <td>Chocolate Chip</td>\n",
       "      <td>787</td>\n",
       "      <td>5</td>\n",
       "      <td>2.0</td>\n",
       "      <td>3935.0</td>\n",
       "      <td>1574.0</td>\n",
       "      <td>2361.0</td>\n",
       "      <td>6</td>\n",
       "      <td>June</td>\n",
       "      <td>2019</td>\n",
       "    </tr>\n",
       "  </tbody>\n",
       "</table>\n",
       "</div>"
      ],
      "text/plain": [
       "           Country         Product  Units Sold  Revenue per cookie  \\\n",
       "Date                                                                 \n",
       "2018-01-09  France  Chocolate Chip         549                   5   \n",
       "2019-01-01  France  Chocolate Chip        3945                   5   \n",
       "2019-01-02  France  Chocolate Chip        2296                   5   \n",
       "2019-01-05  France  Chocolate Chip        1030                   5   \n",
       "2019-01-06  France  Chocolate Chip         787                   5   \n",
       "\n",
       "            Cost per cookie  Revenue    Cost   Profit  Month Number  \\\n",
       "Date                                                                  \n",
       "2018-01-09              2.0   2745.0  1098.0   1647.0             9   \n",
       "2019-01-01              2.0  19725.0  7890.0  11835.0             1   \n",
       "2019-01-02              2.0  11480.0  4592.0   6888.0             2   \n",
       "2019-01-05              2.0   5150.0  2060.0   3090.0             5   \n",
       "2019-01-06              2.0   3935.0  1574.0   2361.0             6   \n",
       "\n",
       "           Month Name  Year  \n",
       "Date                         \n",
       "2018-01-09  September  2018  \n",
       "2019-01-01    January  2019  \n",
       "2019-01-02   February  2019  \n",
       "2019-01-05        May  2019  \n",
       "2019-01-06       June  2019  "
      ]
     },
     "execution_count": 23,
     "metadata": {},
     "output_type": "execute_result"
    }
   ],
   "source": [
    "d_france = d[d['Country'] == 'France'] \n",
    "d_france.head()"
   ]
  },
  {
   "cell_type": "markdown",
   "metadata": {},
   "source": [
    "#### Records with Country as Germany and printing Top 5 Rows"
   ]
  },
  {
   "cell_type": "code",
   "execution_count": 24,
   "metadata": {
    "scrolled": true
   },
   "outputs": [
    {
     "data": {
      "text/html": [
       "<div>\n",
       "<style scoped>\n",
       "    .dataframe tbody tr th:only-of-type {\n",
       "        vertical-align: middle;\n",
       "    }\n",
       "\n",
       "    .dataframe tbody tr th {\n",
       "        vertical-align: top;\n",
       "    }\n",
       "\n",
       "    .dataframe thead th {\n",
       "        text-align: right;\n",
       "    }\n",
       "</style>\n",
       "<table border=\"1\" class=\"dataframe\">\n",
       "  <thead>\n",
       "    <tr style=\"text-align: right;\">\n",
       "      <th></th>\n",
       "      <th>Country</th>\n",
       "      <th>Product</th>\n",
       "      <th>Units Sold</th>\n",
       "      <th>Revenue per cookie</th>\n",
       "      <th>Cost per cookie</th>\n",
       "      <th>Revenue</th>\n",
       "      <th>Cost</th>\n",
       "      <th>Profit</th>\n",
       "      <th>Month Number</th>\n",
       "      <th>Month Name</th>\n",
       "      <th>Year</th>\n",
       "    </tr>\n",
       "    <tr>\n",
       "      <th>Date</th>\n",
       "      <th></th>\n",
       "      <th></th>\n",
       "      <th></th>\n",
       "      <th></th>\n",
       "      <th></th>\n",
       "      <th></th>\n",
       "      <th></th>\n",
       "      <th></th>\n",
       "      <th></th>\n",
       "      <th></th>\n",
       "      <th></th>\n",
       "    </tr>\n",
       "  </thead>\n",
       "  <tbody>\n",
       "    <tr>\n",
       "      <th>2019-01-06</th>\n",
       "      <td>Germany</td>\n",
       "      <td>Chocolate Chip</td>\n",
       "      <td>1006</td>\n",
       "      <td>5</td>\n",
       "      <td>2.0</td>\n",
       "      <td>5030.0</td>\n",
       "      <td>2012.0</td>\n",
       "      <td>3018.0</td>\n",
       "      <td>6</td>\n",
       "      <td>June</td>\n",
       "      <td>2019</td>\n",
       "    </tr>\n",
       "    <tr>\n",
       "      <th>2019-01-07</th>\n",
       "      <td>Germany</td>\n",
       "      <td>Chocolate Chip</td>\n",
       "      <td>367</td>\n",
       "      <td>5</td>\n",
       "      <td>2.0</td>\n",
       "      <td>1835.0</td>\n",
       "      <td>734.0</td>\n",
       "      <td>1101.0</td>\n",
       "      <td>7</td>\n",
       "      <td>July</td>\n",
       "      <td>2019</td>\n",
       "    </tr>\n",
       "    <tr>\n",
       "      <th>2019-01-12</th>\n",
       "      <td>Germany</td>\n",
       "      <td>Chocolate Chip</td>\n",
       "      <td>1513</td>\n",
       "      <td>5</td>\n",
       "      <td>2.0</td>\n",
       "      <td>7565.0</td>\n",
       "      <td>3026.0</td>\n",
       "      <td>4539.0</td>\n",
       "      <td>12</td>\n",
       "      <td>December</td>\n",
       "      <td>2019</td>\n",
       "    </tr>\n",
       "    <tr>\n",
       "      <th>2019-01-09</th>\n",
       "      <td>Germany</td>\n",
       "      <td>Chocolate Chip</td>\n",
       "      <td>747</td>\n",
       "      <td>5</td>\n",
       "      <td>2.0</td>\n",
       "      <td>3735.0</td>\n",
       "      <td>1494.0</td>\n",
       "      <td>2241.0</td>\n",
       "      <td>9</td>\n",
       "      <td>September</td>\n",
       "      <td>2019</td>\n",
       "    </tr>\n",
       "    <tr>\n",
       "      <th>2018-01-10</th>\n",
       "      <td>Germany</td>\n",
       "      <td>Chocolate Chip</td>\n",
       "      <td>766</td>\n",
       "      <td>5</td>\n",
       "      <td>2.0</td>\n",
       "      <td>3830.0</td>\n",
       "      <td>1532.0</td>\n",
       "      <td>2298.0</td>\n",
       "      <td>10</td>\n",
       "      <td>October</td>\n",
       "      <td>2018</td>\n",
       "    </tr>\n",
       "  </tbody>\n",
       "</table>\n",
       "</div>"
      ],
      "text/plain": [
       "            Country         Product  Units Sold  Revenue per cookie  \\\n",
       "Date                                                                  \n",
       "2019-01-06  Germany  Chocolate Chip        1006                   5   \n",
       "2019-01-07  Germany  Chocolate Chip         367                   5   \n",
       "2019-01-12  Germany  Chocolate Chip        1513                   5   \n",
       "2019-01-09  Germany  Chocolate Chip         747                   5   \n",
       "2018-01-10  Germany  Chocolate Chip         766                   5   \n",
       "\n",
       "            Cost per cookie  Revenue    Cost  Profit  Month Number Month Name  \\\n",
       "Date                                                                            \n",
       "2019-01-06              2.0   5030.0  2012.0  3018.0             6       June   \n",
       "2019-01-07              2.0   1835.0   734.0  1101.0             7       July   \n",
       "2019-01-12              2.0   7565.0  3026.0  4539.0            12   December   \n",
       "2019-01-09              2.0   3735.0  1494.0  2241.0             9  September   \n",
       "2018-01-10              2.0   3830.0  1532.0  2298.0            10    October   \n",
       "\n",
       "            Year  \n",
       "Date              \n",
       "2019-01-06  2019  \n",
       "2019-01-07  2019  \n",
       "2019-01-12  2019  \n",
       "2019-01-09  2019  \n",
       "2018-01-10  2018  "
      ]
     },
     "execution_count": 24,
     "metadata": {},
     "output_type": "execute_result"
    }
   ],
   "source": [
    "d_germany = d[d['Country'] == 'Germany'] \n",
    "d_germany.head()"
   ]
  },
  {
   "cell_type": "markdown",
   "metadata": {},
   "source": [
    "#### Records with Country as Canada and printing Top 5 Rows"
   ]
  },
  {
   "cell_type": "code",
   "execution_count": 25,
   "metadata": {
    "scrolled": true
   },
   "outputs": [
    {
     "data": {
      "text/html": [
       "<div>\n",
       "<style scoped>\n",
       "    .dataframe tbody tr th:only-of-type {\n",
       "        vertical-align: middle;\n",
       "    }\n",
       "\n",
       "    .dataframe tbody tr th {\n",
       "        vertical-align: top;\n",
       "    }\n",
       "\n",
       "    .dataframe thead th {\n",
       "        text-align: right;\n",
       "    }\n",
       "</style>\n",
       "<table border=\"1\" class=\"dataframe\">\n",
       "  <thead>\n",
       "    <tr style=\"text-align: right;\">\n",
       "      <th></th>\n",
       "      <th>Country</th>\n",
       "      <th>Product</th>\n",
       "      <th>Units Sold</th>\n",
       "      <th>Revenue per cookie</th>\n",
       "      <th>Cost per cookie</th>\n",
       "      <th>Revenue</th>\n",
       "      <th>Cost</th>\n",
       "      <th>Profit</th>\n",
       "      <th>Month Number</th>\n",
       "      <th>Month Name</th>\n",
       "      <th>Year</th>\n",
       "    </tr>\n",
       "    <tr>\n",
       "      <th>Date</th>\n",
       "      <th></th>\n",
       "      <th></th>\n",
       "      <th></th>\n",
       "      <th></th>\n",
       "      <th></th>\n",
       "      <th></th>\n",
       "      <th></th>\n",
       "      <th></th>\n",
       "      <th></th>\n",
       "      <th></th>\n",
       "      <th></th>\n",
       "    </tr>\n",
       "  </thead>\n",
       "  <tbody>\n",
       "    <tr>\n",
       "      <th>2019-01-02</th>\n",
       "      <td>Canada</td>\n",
       "      <td>Chocolate Chip</td>\n",
       "      <td>292</td>\n",
       "      <td>5</td>\n",
       "      <td>2.0</td>\n",
       "      <td>1460.0</td>\n",
       "      <td>584.0</td>\n",
       "      <td>876.0</td>\n",
       "      <td>2</td>\n",
       "      <td>February</td>\n",
       "      <td>2019</td>\n",
       "    </tr>\n",
       "    <tr>\n",
       "      <th>2019-01-06</th>\n",
       "      <td>Canada</td>\n",
       "      <td>Chocolate Chip</td>\n",
       "      <td>2518</td>\n",
       "      <td>5</td>\n",
       "      <td>2.0</td>\n",
       "      <td>12590.0</td>\n",
       "      <td>5036.0</td>\n",
       "      <td>7554.0</td>\n",
       "      <td>6</td>\n",
       "      <td>June</td>\n",
       "      <td>2019</td>\n",
       "    </tr>\n",
       "    <tr>\n",
       "      <th>2018-01-11</th>\n",
       "      <td>Canada</td>\n",
       "      <td>Chocolate Chip</td>\n",
       "      <td>1725</td>\n",
       "      <td>5</td>\n",
       "      <td>2.0</td>\n",
       "      <td>8625.0</td>\n",
       "      <td>3450.0</td>\n",
       "      <td>5175.0</td>\n",
       "      <td>11</td>\n",
       "      <td>November</td>\n",
       "      <td>2018</td>\n",
       "    </tr>\n",
       "    <tr>\n",
       "      <th>2018-01-12</th>\n",
       "      <td>Canada</td>\n",
       "      <td>Chocolate Chip</td>\n",
       "      <td>2152</td>\n",
       "      <td>5</td>\n",
       "      <td>2.0</td>\n",
       "      <td>10760.0</td>\n",
       "      <td>4304.0</td>\n",
       "      <td>6456.0</td>\n",
       "      <td>12</td>\n",
       "      <td>December</td>\n",
       "      <td>2018</td>\n",
       "    </tr>\n",
       "    <tr>\n",
       "      <th>2019-01-12</th>\n",
       "      <td>Canada</td>\n",
       "      <td>Chocolate Chip</td>\n",
       "      <td>1817</td>\n",
       "      <td>5</td>\n",
       "      <td>2.0</td>\n",
       "      <td>9085.0</td>\n",
       "      <td>3634.0</td>\n",
       "      <td>5451.0</td>\n",
       "      <td>12</td>\n",
       "      <td>December</td>\n",
       "      <td>2019</td>\n",
       "    </tr>\n",
       "  </tbody>\n",
       "</table>\n",
       "</div>"
      ],
      "text/plain": [
       "           Country         Product  Units Sold  Revenue per cookie  \\\n",
       "Date                                                                 \n",
       "2019-01-02  Canada  Chocolate Chip         292                   5   \n",
       "2019-01-06  Canada  Chocolate Chip        2518                   5   \n",
       "2018-01-11  Canada  Chocolate Chip        1725                   5   \n",
       "2018-01-12  Canada  Chocolate Chip        2152                   5   \n",
       "2019-01-12  Canada  Chocolate Chip        1817                   5   \n",
       "\n",
       "            Cost per cookie  Revenue    Cost  Profit  Month Number Month Name  \\\n",
       "Date                                                                            \n",
       "2019-01-02              2.0   1460.0   584.0   876.0             2   February   \n",
       "2019-01-06              2.0  12590.0  5036.0  7554.0             6       June   \n",
       "2018-01-11              2.0   8625.0  3450.0  5175.0            11   November   \n",
       "2018-01-12              2.0  10760.0  4304.0  6456.0            12   December   \n",
       "2019-01-12              2.0   9085.0  3634.0  5451.0            12   December   \n",
       "\n",
       "            Year  \n",
       "Date              \n",
       "2019-01-02  2019  \n",
       "2019-01-06  2019  \n",
       "2018-01-11  2018  \n",
       "2018-01-12  2018  \n",
       "2019-01-12  2019  "
      ]
     },
     "execution_count": 25,
     "metadata": {},
     "output_type": "execute_result"
    }
   ],
   "source": [
    "d_canada = d[d['Country'] == 'Canada'] \n",
    "d_canada.head()"
   ]
  },
  {
   "cell_type": "markdown",
   "metadata": {},
   "source": [
    "#### Converting to DataFrame"
   ]
  },
  {
   "cell_type": "code",
   "execution_count": 26,
   "metadata": {
    "scrolled": false
   },
   "outputs": [
    {
     "data": {
      "text/html": [
       "<div>\n",
       "<style scoped>\n",
       "    .dataframe tbody tr th:only-of-type {\n",
       "        vertical-align: middle;\n",
       "    }\n",
       "\n",
       "    .dataframe tbody tr th {\n",
       "        vertical-align: top;\n",
       "    }\n",
       "\n",
       "    .dataframe thead th {\n",
       "        text-align: right;\n",
       "    }\n",
       "</style>\n",
       "<table border=\"1\" class=\"dataframe\">\n",
       "  <thead>\n",
       "    <tr style=\"text-align: right;\">\n",
       "      <th></th>\n",
       "      <th>Country</th>\n",
       "      <th>Product</th>\n",
       "      <th>Units Sold</th>\n",
       "      <th>Revenue per cookie</th>\n",
       "      <th>Cost per cookie</th>\n",
       "      <th>Revenue</th>\n",
       "      <th>Cost</th>\n",
       "      <th>Profit</th>\n",
       "      <th>Month Number</th>\n",
       "      <th>Month Name</th>\n",
       "      <th>Year</th>\n",
       "    </tr>\n",
       "    <tr>\n",
       "      <th>Date</th>\n",
       "      <th></th>\n",
       "      <th></th>\n",
       "      <th></th>\n",
       "      <th></th>\n",
       "      <th></th>\n",
       "      <th></th>\n",
       "      <th></th>\n",
       "      <th></th>\n",
       "      <th></th>\n",
       "      <th></th>\n",
       "      <th></th>\n",
       "    </tr>\n",
       "  </thead>\n",
       "  <tbody>\n",
       "    <tr>\n",
       "      <th>2019-01-02</th>\n",
       "      <td>Canada</td>\n",
       "      <td>Chocolate Chip</td>\n",
       "      <td>292</td>\n",
       "      <td>5</td>\n",
       "      <td>2.0</td>\n",
       "      <td>1460.0</td>\n",
       "      <td>584.0</td>\n",
       "      <td>876.0</td>\n",
       "      <td>2</td>\n",
       "      <td>February</td>\n",
       "      <td>2019</td>\n",
       "    </tr>\n",
       "    <tr>\n",
       "      <th>2019-01-02</th>\n",
       "      <td>Mexico</td>\n",
       "      <td>Chocolate Chip</td>\n",
       "      <td>974</td>\n",
       "      <td>5</td>\n",
       "      <td>2.0</td>\n",
       "      <td>4870.0</td>\n",
       "      <td>1948.0</td>\n",
       "      <td>2922.0</td>\n",
       "      <td>2</td>\n",
       "      <td>February</td>\n",
       "      <td>2019</td>\n",
       "    </tr>\n",
       "    <tr>\n",
       "      <th>2019-01-06</th>\n",
       "      <td>Canada</td>\n",
       "      <td>Chocolate Chip</td>\n",
       "      <td>2518</td>\n",
       "      <td>5</td>\n",
       "      <td>2.0</td>\n",
       "      <td>12590.0</td>\n",
       "      <td>5036.0</td>\n",
       "      <td>7554.0</td>\n",
       "      <td>6</td>\n",
       "      <td>June</td>\n",
       "      <td>2019</td>\n",
       "    </tr>\n",
       "    <tr>\n",
       "      <th>2019-01-06</th>\n",
       "      <td>Germany</td>\n",
       "      <td>Chocolate Chip</td>\n",
       "      <td>1006</td>\n",
       "      <td>5</td>\n",
       "      <td>2.0</td>\n",
       "      <td>5030.0</td>\n",
       "      <td>2012.0</td>\n",
       "      <td>3018.0</td>\n",
       "      <td>6</td>\n",
       "      <td>June</td>\n",
       "      <td>2019</td>\n",
       "    </tr>\n",
       "    <tr>\n",
       "      <th>2019-01-07</th>\n",
       "      <td>Germany</td>\n",
       "      <td>Chocolate Chip</td>\n",
       "      <td>367</td>\n",
       "      <td>5</td>\n",
       "      <td>2.0</td>\n",
       "      <td>1835.0</td>\n",
       "      <td>734.0</td>\n",
       "      <td>1101.0</td>\n",
       "      <td>7</td>\n",
       "      <td>July</td>\n",
       "      <td>2019</td>\n",
       "    </tr>\n",
       "  </tbody>\n",
       "</table>\n",
       "</div>"
      ],
      "text/plain": [
       "            Country         Product  Units Sold  Revenue per cookie  \\\n",
       "Date                                                                  \n",
       "2019-01-02   Canada  Chocolate Chip         292                   5   \n",
       "2019-01-02   Mexico  Chocolate Chip         974                   5   \n",
       "2019-01-06   Canada  Chocolate Chip        2518                   5   \n",
       "2019-01-06  Germany  Chocolate Chip        1006                   5   \n",
       "2019-01-07  Germany  Chocolate Chip         367                   5   \n",
       "\n",
       "            Cost per cookie  Revenue    Cost  Profit  Month Number Month Name  \\\n",
       "Date                                                                            \n",
       "2019-01-02              2.0   1460.0   584.0   876.0             2   February   \n",
       "2019-01-02              2.0   4870.0  1948.0  2922.0             2   February   \n",
       "2019-01-06              2.0  12590.0  5036.0  7554.0             6       June   \n",
       "2019-01-06              2.0   5030.0  2012.0  3018.0             6       June   \n",
       "2019-01-07              2.0   1835.0   734.0  1101.0             7       July   \n",
       "\n",
       "            Year  \n",
       "Date              \n",
       "2019-01-02  2019  \n",
       "2019-01-02  2019  \n",
       "2019-01-06  2019  \n",
       "2019-01-06  2019  \n",
       "2019-01-07  2019  "
      ]
     },
     "execution_count": 26,
     "metadata": {},
     "output_type": "execute_result"
    }
   ],
   "source": [
    "d = pd.DataFrame(d)\n",
    "d.head()"
   ]
  },
  {
   "cell_type": "markdown",
   "metadata": {},
   "source": [
    "#### Sorting Categorical Month Names"
   ]
  },
  {
   "cell_type": "code",
   "execution_count": 27,
   "metadata": {},
   "outputs": [
    {
     "data": {
      "text/plain": [
       "Date\n",
       "2019-01-02     February\n",
       "2019-01-02     February\n",
       "2019-01-06         June\n",
       "2019-01-06         June\n",
       "2019-01-07         July\n",
       "                ...    \n",
       "2019-01-05          May\n",
       "2019-01-09    September\n",
       "2018-01-11     November\n",
       "2018-01-12     December\n",
       "2019-01-12     December\n",
       "Name: Month Name, Length: 700, dtype: category\n",
       "Categories (12, object): ['January' < 'February' < 'March' < 'April' ... 'September' < 'October' < 'November' < 'December']"
      ]
     },
     "execution_count": 27,
     "metadata": {},
     "output_type": "execute_result"
    }
   ],
   "source": [
    "months = [\"January\", \"February\", \"March\", \"April\", \"May\", \"June\", \n",
    "          \"July\", \"August\", \"September\", \"October\", \"November\", \"December\"]\n",
    "d['Month Name'] = pd.Categorical(d['Month Name'], categories= months, ordered=True)\n",
    "d['Month Name']"
   ]
  },
  {
   "cell_type": "markdown",
   "metadata": {},
   "source": [
    "#### Profits by Month"
   ]
  },
  {
   "cell_type": "code",
   "execution_count": 28,
   "metadata": {},
   "outputs": [
    {
     "data": {
      "text/html": [
       "<div>\n",
       "<style scoped>\n",
       "    .dataframe tbody tr th:only-of-type {\n",
       "        vertical-align: middle;\n",
       "    }\n",
       "\n",
       "    .dataframe tbody tr th {\n",
       "        vertical-align: top;\n",
       "    }\n",
       "\n",
       "    .dataframe thead th {\n",
       "        text-align: right;\n",
       "    }\n",
       "</style>\n",
       "<table border=\"1\" class=\"dataframe\">\n",
       "  <thead>\n",
       "    <tr style=\"text-align: right;\">\n",
       "      <th></th>\n",
       "      <th>Profit</th>\n",
       "    </tr>\n",
       "    <tr>\n",
       "      <th>Month Name</th>\n",
       "      <th></th>\n",
       "    </tr>\n",
       "  </thead>\n",
       "  <tbody>\n",
       "    <tr>\n",
       "      <th>January</th>\n",
       "      <td>171305.76</td>\n",
       "    </tr>\n",
       "    <tr>\n",
       "      <th>February</th>\n",
       "      <td>135968.25</td>\n",
       "    </tr>\n",
       "    <tr>\n",
       "      <th>March</th>\n",
       "      <td>129483.05</td>\n",
       "    </tr>\n",
       "    <tr>\n",
       "      <th>April</th>\n",
       "      <td>196750.90</td>\n",
       "    </tr>\n",
       "    <tr>\n",
       "      <th>May</th>\n",
       "      <td>126856.85</td>\n",
       "    </tr>\n",
       "  </tbody>\n",
       "</table>\n",
       "</div>"
      ],
      "text/plain": [
       "               Profit\n",
       "Month Name           \n",
       "January     171305.76\n",
       "February    135968.25\n",
       "March       129483.05\n",
       "April       196750.90\n",
       "May         126856.85"
      ]
     },
     "execution_count": 28,
     "metadata": {},
     "output_type": "execute_result"
    }
   ],
   "source": [
    "Monthly_Profits = d.groupby(['Month Name']) .agg({\"Profit\" : 'sum'}).round(decimals = 2).sort_values(by = 'Month Name')\n",
    "Monthly_Profits.head()\n"
   ]
  },
  {
   "cell_type": "markdown",
   "metadata": {},
   "source": [
    "#### Line Plot for Monthly Profits"
   ]
  },
  {
   "cell_type": "code",
   "execution_count": 29,
   "metadata": {},
   "outputs": [
    {
     "data": {
      "image/png": "[encoded data removed]",
      "text/plain": [
       "<Figure size 864x432 with 1 Axes>"
      ]
     },
     "metadata": {
      "needs_background": "light"
     },
     "output_type": "display_data"
    }
   ],
   "source": [
    "font1 = {'family' : 'times new roman' , 'color' :'red' , 'size' : 15}\n",
    "\n",
    "plt.rcParams[\"figure.figsize\"] = (12,6)\n",
    "\n",
    "plt.plot(Monthly_Profits.index,Monthly_Profits)\n",
    "\n",
    "\n",
    "plt.xlabel(\"Month\" , font1)\n",
    "plt.ylabel(\"Profit\" , font1)\n",
    "plt.title(\"Monthly Profits\")\n",
    "plt.legend(Monthly_Profits.columns) \n",
    "plt.show()"
   ]
  },
  {
   "cell_type": "markdown",
   "metadata": {},
   "source": [
    "#### Profits by Country and Plotting TreeMap"
   ]
  },
  {
   "cell_type": "code",
   "execution_count": 30,
   "metadata": {
    "scrolled": true
   },
   "outputs": [
    {
     "data": {
      "image/png": "[encoded data removed]",
      "text/plain": [
       "<Figure size 864x432 with 1 Axes>"
      ]
     },
     "metadata": {
      "needs_background": "light"
     },
     "output_type": "display_data"
    }
   ],
   "source": [
    "df_Country = d.groupby(['Country']) .agg({'Profit' : 'sum'}).round(decimals = 2).sort_values(by = 'Country')\n",
    "\n",
    "colors = (\"#ffb997\",\"#f67e7d\",\"#843b62\",\"#621940\",\"#0b032d\")\n",
    "squarify.plot(sizes=df_Country['Profit'], label=df_Country.index, alpha=0.8, color = colors )\n",
    "plt.axis('off')\n",
    "plt.show()"
   ]
  },
  {
   "cell_type": "markdown",
   "metadata": {},
   "source": [
    "#### Plot For Revenue By Product"
   ]
  },
  {
   "cell_type": "code",
   "execution_count": 31,
   "metadata": {
    "scrolled": false
   },
   "outputs": [
    {
     "data": {
      "image/png": "[encoded data removed]",
      "text/plain": [
       "<Figure size 1296x1296 with 1 Axes>"
      ]
     },
     "metadata": {
      "needs_background": "light"
     },
     "output_type": "display_data"
    }
   ],
   "source": [
    "plt.figure(figsize=(18,18))\n",
    "a = sns.barplot(x = 'Year' , y = 'Revenue' , hue = 'Product', data = d  ,ci = 0 ,palette = \"YlGnBu\")\n",
    "a.set_title('Product-Wise Revenue per Year' , size = 24)\n",
    "plt.show()\n"
   ]
  },
  {
   "cell_type": "markdown",
   "metadata": {},
   "source": [
    "#### Plotting Revenue By Month"
   ]
  },
  {
   "cell_type": "code",
   "execution_count": 32,
   "metadata": {},
   "outputs": [
    {
     "data": {
      "image/png": "[encoded data removed]",
      "text/plain": [
       "<Figure size 720x432 with 1 Axes>"
      ]
     },
     "metadata": {
      "needs_background": "light"
     },
     "output_type": "display_data"
    }
   ],
   "source": [
    "df_Month = d.groupby(['Month Name'])['Revenue'].sum().round(2)\n",
    "df_Month.head(5)\n",
    "\n",
    "df_Month.plot(kind='bar', figsize=(10,6), color=\"blue\", fontsize=13 , xlabel = 'Month' , ylabel = 'Revenue in Dollars' , title = 'Revenue Per Month');"
   ]
  },
  {
   "cell_type": "markdown",
   "metadata": {},
   "source": [
    "#### Plotting Revenue By Product"
   ]
  },
  {
   "cell_type": "code",
   "execution_count": 33,
   "metadata": {},
   "outputs": [
    {
     "data": {
      "image/png": "[encoded data removed]",
      "text/plain": [
       "<Figure size 720x432 with 1 Axes>"
      ]
     },
     "metadata": {
      "needs_background": "light"
     },
     "output_type": "display_data"
    }
   ],
   "source": [
    "df_Product = d.groupby(['Product'])['Revenue'].sum().round(2)\n",
    "df_Product\n",
    "\n",
    "df_Product.plot(kind='bar', figsize=(10,6), color=\"indigo\", fontsize=13 , xlabel = 'Product' , ylabel = 'Revenue in Dollars' , title = 'Revenue Per Product');"
   ]
  },
  {
   "cell_type": "markdown",
   "metadata": {},
   "source": [
    "#### Plotting Profit By Product"
   ]
  },
  {
   "cell_type": "code",
   "execution_count": 34,
   "metadata": {},
   "outputs": [
    {
     "data": {
      "image/png": "[encoded data removed]",
      "text/plain": [
       "<Figure size 720x432 with 1 Axes>"
      ]
     },
     "metadata": {
      "needs_background": "light"
     },
     "output_type": "display_data"
    }
   ],
   "source": [
    "df_Product = d.groupby(['Product'])['Profit'].sum().round(2)\n",
    "df_Product\n",
    "\n",
    "df_Product.plot(kind='bar', figsize=(10,6), color=\"indigo\", fontsize=13 , xlabel = 'Product' , ylabel = 'Profit in Dollars' , title = 'Profit Per Product');"
   ]
  },
  {
   "cell_type": "markdown",
   "metadata": {},
   "source": [
    "#### Plotting Product-wise Cost Per Country"
   ]
  },
  {
   "cell_type": "code",
   "execution_count": 35,
   "metadata": {
    "scrolled": false
   },
   "outputs": [
    {
     "data": {
      "image/png": "[encoded data removed]",
      "text/plain": [
       "<Figure size 1080x720 with 1 Axes>"
      ]
     },
     "metadata": {
      "needs_background": "light"
     },
     "output_type": "display_data"
    }
   ],
   "source": [
    "plt.figure(figsize=(15,10))\n",
    "b = sns.barplot(x = 'Product' , y = 'Cost' , hue = 'Country', data = d  ,ci = 0 ,palette = \"winter_r\" )\n",
    "b.set_title('Product-Wise Cost Per Country' , size = 24)\n",
    "plt.show()\n"
   ]
  },
  {
   "cell_type": "markdown",
   "metadata": {},
   "source": [
    "#### Plotting Product-Wise Revenue Per Country"
   ]
  },
  {
   "cell_type": "code",
   "execution_count": 36,
   "metadata": {
    "scrolled": false
   },
   "outputs": [
    {
     "data": {
      "image/png": "[encoded data removed]",
      "text/plain": [
       "<Figure size 1296x864 with 1 Axes>"
      ]
     },
     "metadata": {
      "needs_background": "light"
     },
     "output_type": "display_data"
    }
   ],
   "source": [
    "plt.figure(figsize=(18,12))\n",
    "b = sns.barplot(x = 'Country' , y = 'Revenue' , hue = 'Product', data = d  ,ci = 0 ,palette = \"Paired\" )\n",
    "b.set_title('Product-Wise Revenue Per Country' , size = 24)\n",
    "plt.show()\n"
   ]
  },
  {
   "cell_type": "markdown",
   "metadata": {},
   "source": [
    "#### Strip Plot For Country and Revenue by Product"
   ]
  },
  {
   "cell_type": "code",
   "execution_count": 37,
   "metadata": {
    "scrolled": false
   },
   "outputs": [
    {
     "data": {
      "image/png": "[encoded data removed]",
      "text/plain": [
       "<Figure size 720x576 with 1 Axes>"
      ]
     },
     "metadata": {},
     "output_type": "display_data"
    }
   ],
   "source": [
    "sns.set_style(\"darkgrid\")\n",
    "plt.figure(figsize=(10,8))\n",
    "sns.stripplot(x = 'Country' , y = 'Revenue' ,hue = 'Product' , data = d)\n",
    "plt.show()"
   ]
  },
  {
   "cell_type": "markdown",
   "metadata": {},
   "source": [
    "#### Pie Plot for Profit By Product"
   ]
  },
  {
   "cell_type": "code",
   "execution_count": 38,
   "metadata": {},
   "outputs": [
    {
     "data": {
      "text/plain": [
       "<AxesSubplot:title={'center':'Product-Wise Profit'}, ylabel='Profit'>"
      ]
     },
     "execution_count": 38,
     "metadata": {},
     "output_type": "execute_result"
    },
    {
     "data": {
      "image/png": "[encoded data removed]",
      "text/plain": [
       "<Figure size 720x720 with 1 Axes>"
      ]
     },
     "metadata": {},
     "output_type": "display_data"
    }
   ],
   "source": [
    "x = d.groupby(['Product'])['Profit'].sum().round(2)\n",
    "x.plot(kind='pie',figsize=(10,10), title=\"Product-Wise Profit\", autopct='%1.2f%%')"
   ]
  }
 ],
 "metadata": {
  "kernelspec": {
   "display_name": "Python 3",
   "language": "python",
   "name": "python3"
  },
  "language_info": {
   "codemirror_mode": {
    "name": "ipython",
    "version": 3
   },
   "file_extension": ".py",
   "mimetype": "text/x-python",
   "name": "python",
   "nbconvert_exporter": "python",
   "pygments_lexer": "ipython3",
   "version": "3.8.5"
  }
 },
 "nbformat": 4,
 "nbformat_minor": 4
}
